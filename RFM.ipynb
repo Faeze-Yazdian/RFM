{
 "cells": [
  {
   "cell_type": "code",
   "execution_count": 1,
   "metadata": {},
   "outputs": [],
   "source": [
    "import pandas as pd\n",
    "import numpy as np\n",
    "import datetime as dt\n",
    "import matplotlib.pyplot as plt\n",
    "import seaborn as sns"
   ]
  },
  {
   "cell_type": "code",
   "execution_count": 2,
   "metadata": {},
   "outputs": [],
   "source": [
    "from sklearn.preprocessing import MinMaxScaler\n",
    "from sklearn.cluster import KMeans"
   ]
  },
  {
   "cell_type": "code",
   "execution_count": 3,
   "metadata": {},
   "outputs": [
    {
     "data": {
      "text/html": [
       "<div>\n",
       "<style scoped>\n",
       "    .dataframe tbody tr th:only-of-type {\n",
       "        vertical-align: middle;\n",
       "    }\n",
       "\n",
       "    .dataframe tbody tr th {\n",
       "        vertical-align: top;\n",
       "    }\n",
       "\n",
       "    .dataframe thead th {\n",
       "        text-align: right;\n",
       "    }\n",
       "</style>\n",
       "<table border=\"1\" class=\"dataframe\">\n",
       "  <thead>\n",
       "    <tr style=\"text-align: right;\">\n",
       "      <th></th>\n",
       "      <th>User_ID</th>\n",
       "      <th>datekey</th>\n",
       "      <th>Usage_MB</th>\n",
       "      <th>age</th>\n",
       "      <th>gender_v</th>\n",
       "      <th>device_type</th>\n",
       "    </tr>\n",
       "  </thead>\n",
       "  <tbody>\n",
       "    <tr>\n",
       "      <th>982145</th>\n",
       "      <td>2</td>\n",
       "      <td>2021-02-17</td>\n",
       "      <td>8</td>\n",
       "      <td>37</td>\n",
       "      <td>M</td>\n",
       "      <td>Smart phone</td>\n",
       "    </tr>\n",
       "    <tr>\n",
       "      <th>956246</th>\n",
       "      <td>3</td>\n",
       "      <td>2021-01-31</td>\n",
       "      <td>37</td>\n",
       "      <td>46</td>\n",
       "      <td>M</td>\n",
       "      <td>Smart phone</td>\n",
       "    </tr>\n",
       "    <tr>\n",
       "      <th>951239</th>\n",
       "      <td>5</td>\n",
       "      <td>2021-02-07</td>\n",
       "      <td>13</td>\n",
       "      <td>32</td>\n",
       "      <td>M</td>\n",
       "      <td>Smart phone</td>\n",
       "    </tr>\n",
       "    <tr>\n",
       "      <th>956247</th>\n",
       "      <td>8</td>\n",
       "      <td>2021-02-28</td>\n",
       "      <td>2754</td>\n",
       "      <td>40</td>\n",
       "      <td>M</td>\n",
       "      <td>Smart phone</td>\n",
       "    </tr>\n",
       "    <tr>\n",
       "      <th>951240</th>\n",
       "      <td>8</td>\n",
       "      <td>2021-03-01</td>\n",
       "      <td>1767</td>\n",
       "      <td>40</td>\n",
       "      <td>M</td>\n",
       "      <td>Smart phone</td>\n",
       "    </tr>\n",
       "    <tr>\n",
       "      <th>...</th>\n",
       "      <td>...</td>\n",
       "      <td>...</td>\n",
       "      <td>...</td>\n",
       "      <td>...</td>\n",
       "      <td>...</td>\n",
       "      <td>...</td>\n",
       "    </tr>\n",
       "    <tr>\n",
       "      <th>3679530</th>\n",
       "      <td>1659072</td>\n",
       "      <td>2021-02-02</td>\n",
       "      <td>4218</td>\n",
       "      <td>20</td>\n",
       "      <td>M</td>\n",
       "      <td>Smart phone</td>\n",
       "    </tr>\n",
       "    <tr>\n",
       "      <th>3533718</th>\n",
       "      <td>1659072</td>\n",
       "      <td>2021-02-20</td>\n",
       "      <td>1002</td>\n",
       "      <td>20</td>\n",
       "      <td>M</td>\n",
       "      <td>Smart phone</td>\n",
       "    </tr>\n",
       "    <tr>\n",
       "      <th>3606084</th>\n",
       "      <td>1659072</td>\n",
       "      <td>2021-02-06</td>\n",
       "      <td>719</td>\n",
       "      <td>20</td>\n",
       "      <td>M</td>\n",
       "      <td>Smart phone</td>\n",
       "    </tr>\n",
       "    <tr>\n",
       "      <th>3679531</th>\n",
       "      <td>1659072</td>\n",
       "      <td>2021-02-23</td>\n",
       "      <td>4566</td>\n",
       "      <td>20</td>\n",
       "      <td>M</td>\n",
       "      <td>Smart phone</td>\n",
       "    </tr>\n",
       "    <tr>\n",
       "      <th>3661135</th>\n",
       "      <td>1659073</td>\n",
       "      <td>2021-02-11</td>\n",
       "      <td>26</td>\n",
       "      <td>47</td>\n",
       "      <td>F</td>\n",
       "      <td>Smart phone</td>\n",
       "    </tr>\n",
       "  </tbody>\n",
       "</table>\n",
       "<p>3752013 rows × 6 columns</p>\n",
       "</div>"
      ],
      "text/plain": [
       "         User_ID    datekey  Usage_MB  age gender_v  device_type\n",
       "982145         2 2021-02-17         8   37        M  Smart phone\n",
       "956246         3 2021-01-31        37   46        M  Smart phone\n",
       "951239         5 2021-02-07        13   32        M  Smart phone\n",
       "956247         8 2021-02-28      2754   40        M  Smart phone\n",
       "951240         8 2021-03-01      1767   40        M  Smart phone\n",
       "...          ...        ...       ...  ...      ...          ...\n",
       "3679530  1659072 2021-02-02      4218   20        M  Smart phone\n",
       "3533718  1659072 2021-02-20      1002   20        M  Smart phone\n",
       "3606084  1659072 2021-02-06       719   20        M  Smart phone\n",
       "3679531  1659072 2021-02-23      4566   20        M  Smart phone\n",
       "3661135  1659073 2021-02-11        26   47        F  Smart phone\n",
       "\n",
       "[3752013 rows x 6 columns]"
      ]
     },
     "execution_count": 3,
     "metadata": {},
     "output_type": "execute_result"
    }
   ],
   "source": [
    "df = pd.read_csv('C:\\\\Users\\\\My\\\\Desktop\\\\data.csv', parse_dates=['datekey'])\n",
    "df=df.sort_values('User_ID')\n",
    "#df"
   ]
  },
  {
   "cell_type": "code",
   "execution_count": 4,
   "metadata": {
    "collapsed": true
   },
   "outputs": [
    {
     "data": {
      "text/html": [
       "<div>\n",
       "<style scoped>\n",
       "    .dataframe tbody tr th:only-of-type {\n",
       "        vertical-align: middle;\n",
       "    }\n",
       "\n",
       "    .dataframe tbody tr th {\n",
       "        vertical-align: top;\n",
       "    }\n",
       "\n",
       "    .dataframe thead th {\n",
       "        text-align: right;\n",
       "    }\n",
       "</style>\n",
       "<table border=\"1\" class=\"dataframe\">\n",
       "  <thead>\n",
       "    <tr style=\"text-align: right;\">\n",
       "      <th></th>\n",
       "      <th>User_ID</th>\n",
       "      <th>Usage_MB</th>\n",
       "      <th>age</th>\n",
       "    </tr>\n",
       "  </thead>\n",
       "  <tbody>\n",
       "    <tr>\n",
       "      <th>count</th>\n",
       "      <td>3.752013e+06</td>\n",
       "      <td>3.752013e+06</td>\n",
       "      <td>3.752013e+06</td>\n",
       "    </tr>\n",
       "    <tr>\n",
       "      <th>mean</th>\n",
       "      <td>8.283118e+05</td>\n",
       "      <td>7.700764e+02</td>\n",
       "      <td>3.708919e+01</td>\n",
       "    </tr>\n",
       "    <tr>\n",
       "      <th>std</th>\n",
       "      <td>4.786791e+05</td>\n",
       "      <td>1.186144e+03</td>\n",
       "      <td>1.201775e+01</td>\n",
       "    </tr>\n",
       "    <tr>\n",
       "      <th>min</th>\n",
       "      <td>2.000000e+00</td>\n",
       "      <td>1.000000e+00</td>\n",
       "      <td>4.000000e+00</td>\n",
       "    </tr>\n",
       "    <tr>\n",
       "      <th>25%</th>\n",
       "      <td>4.139140e+05</td>\n",
       "      <td>1.210000e+02</td>\n",
       "      <td>2.900000e+01</td>\n",
       "    </tr>\n",
       "    <tr>\n",
       "      <th>50%</th>\n",
       "      <td>8.271870e+05</td>\n",
       "      <td>3.730000e+02</td>\n",
       "      <td>3.600000e+01</td>\n",
       "    </tr>\n",
       "    <tr>\n",
       "      <th>75%</th>\n",
       "      <td>1.242856e+06</td>\n",
       "      <td>9.650000e+02</td>\n",
       "      <td>4.400000e+01</td>\n",
       "    </tr>\n",
       "    <tr>\n",
       "      <th>max</th>\n",
       "      <td>1.659073e+06</td>\n",
       "      <td>7.209900e+04</td>\n",
       "      <td>6.940000e+02</td>\n",
       "    </tr>\n",
       "  </tbody>\n",
       "</table>\n",
       "</div>"
      ],
      "text/plain": [
       "            User_ID      Usage_MB           age\n",
       "count  3.752013e+06  3.752013e+06  3.752013e+06\n",
       "mean   8.283118e+05  7.700764e+02  3.708919e+01\n",
       "std    4.786791e+05  1.186144e+03  1.201775e+01\n",
       "min    2.000000e+00  1.000000e+00  4.000000e+00\n",
       "25%    4.139140e+05  1.210000e+02  2.900000e+01\n",
       "50%    8.271870e+05  3.730000e+02  3.600000e+01\n",
       "75%    1.242856e+06  9.650000e+02  4.400000e+01\n",
       "max    1.659073e+06  7.209900e+04  6.940000e+02"
      ]
     },
     "execution_count": 4,
     "metadata": {},
     "output_type": "execute_result"
    }
   ],
   "source": [
    "#statistical Description of raw data\n",
    "df.describe()"
   ]
  },
  {
   "cell_type": "code",
   "execution_count": 5,
   "metadata": {},
   "outputs": [
    {
     "data": {
      "text/plain": [
       "User_ID        0\n",
       "datekey        0\n",
       "Usage_MB       0\n",
       "age            0\n",
       "gender_v       0\n",
       "device_type    0\n",
       "dtype: int64"
      ]
     },
     "execution_count": 5,
     "metadata": {},
     "output_type": "execute_result"
    }
   ],
   "source": [
    "#checking the null values\n",
    "df.isna().sum()"
   ]
  },
  {
   "cell_type": "code",
   "execution_count": 6,
   "metadata": {},
   "outputs": [
    {
     "name": "stdout",
     "output_type": "stream",
     "text": [
      "<class 'pandas.core.frame.DataFrame'>\n",
      "Int64Index: 3752013 entries, 982145 to 3661135\n",
      "Data columns (total 6 columns):\n",
      " #   Column       Dtype         \n",
      "---  ------       -----         \n",
      " 0   User_ID      int64         \n",
      " 1   datekey      datetime64[ns]\n",
      " 2   Usage_MB     int64         \n",
      " 3   age          int64         \n",
      " 4   gender_v     object        \n",
      " 5   device_type  object        \n",
      "dtypes: datetime64[ns](1), int64(3), object(2)\n",
      "memory usage: 200.4+ MB\n"
     ]
    }
   ],
   "source": [
    "df.info()"
   ]
  },
  {
   "cell_type": "markdown",
   "metadata": {},
   "source": [
    "**Recency**"
   ]
  },
  {
   "cell_type": "code",
   "execution_count": 7,
   "metadata": {},
   "outputs": [],
   "source": [
    "# having the max datekey for each user_ID and create a new data frame with it\n",
    "df_max_datekey = df.groupby('User_ID').datekey.max().reset_index()\n",
    "df_max_datekey.columns = ['User_ID', 'Max_datekey']\n",
    "#df_max_datekey"
   ]
  },
  {
   "cell_type": "code",
   "execution_count": 8,
   "metadata": {},
   "outputs": [
    {
     "data": {
      "text/html": [
       "<div>\n",
       "<style scoped>\n",
       "    .dataframe tbody tr th:only-of-type {\n",
       "        vertical-align: middle;\n",
       "    }\n",
       "\n",
       "    .dataframe tbody tr th {\n",
       "        vertical-align: top;\n",
       "    }\n",
       "\n",
       "    .dataframe thead th {\n",
       "        text-align: right;\n",
       "    }\n",
       "</style>\n",
       "<table border=\"1\" class=\"dataframe\">\n",
       "  <thead>\n",
       "    <tr style=\"text-align: right;\">\n",
       "      <th></th>\n",
       "      <th>User_ID</th>\n",
       "      <th>Recency</th>\n",
       "    </tr>\n",
       "  </thead>\n",
       "  <tbody>\n",
       "    <tr>\n",
       "      <th>0</th>\n",
       "      <td>2</td>\n",
       "      <td>12</td>\n",
       "    </tr>\n",
       "    <tr>\n",
       "      <th>1</th>\n",
       "      <td>3</td>\n",
       "      <td>29</td>\n",
       "    </tr>\n",
       "    <tr>\n",
       "      <th>2</th>\n",
       "      <td>5</td>\n",
       "      <td>22</td>\n",
       "    </tr>\n",
       "    <tr>\n",
       "      <th>3</th>\n",
       "      <td>8</td>\n",
       "      <td>0</td>\n",
       "    </tr>\n",
       "    <tr>\n",
       "      <th>4</th>\n",
       "      <td>9</td>\n",
       "      <td>20</td>\n",
       "    </tr>\n",
       "    <tr>\n",
       "      <th>...</th>\n",
       "      <td>...</td>\n",
       "      <td>...</td>\n",
       "    </tr>\n",
       "    <tr>\n",
       "      <th>1144120</th>\n",
       "      <td>1659068</td>\n",
       "      <td>3</td>\n",
       "    </tr>\n",
       "    <tr>\n",
       "      <th>1144121</th>\n",
       "      <td>1659069</td>\n",
       "      <td>3</td>\n",
       "    </tr>\n",
       "    <tr>\n",
       "      <th>1144122</th>\n",
       "      <td>1659071</td>\n",
       "      <td>22</td>\n",
       "    </tr>\n",
       "    <tr>\n",
       "      <th>1144123</th>\n",
       "      <td>1659072</td>\n",
       "      <td>0</td>\n",
       "    </tr>\n",
       "    <tr>\n",
       "      <th>1144124</th>\n",
       "      <td>1659073</td>\n",
       "      <td>18</td>\n",
       "    </tr>\n",
       "  </tbody>\n",
       "</table>\n",
       "<p>1144125 rows × 2 columns</p>\n",
       "</div>"
      ],
      "text/plain": [
       "         User_ID  Recency\n",
       "0              2       12\n",
       "1              3       29\n",
       "2              5       22\n",
       "3              8        0\n",
       "4              9       20\n",
       "...          ...      ...\n",
       "1144120  1659068        3\n",
       "1144121  1659069        3\n",
       "1144122  1659071       22\n",
       "1144123  1659072        0\n",
       "1144124  1659073       18\n",
       "\n",
       "[1144125 rows x 2 columns]"
      ]
     },
     "execution_count": 8,
     "metadata": {},
     "output_type": "execute_result"
    }
   ],
   "source": [
    "# calculating the days between the max date and the dates\n",
    "# Recency is the number of days, each ID is inactive\n",
    "df_max_datekey['Recency'] = (df_max_datekey['Max_datekey'].max() - df_max_datekey['Max_datekey']).dt.days\n",
    "df_max_datekey[['User_ID','Recency']]"
   ]
  },
  {
   "cell_type": "markdown",
   "metadata": {},
   "source": [
    "**Frequency**"
   ]
  },
  {
   "cell_type": "code",
   "execution_count": 9,
   "metadata": {},
   "outputs": [],
   "source": [
    "#get frequency counts for each user and create a dataframe with it\n",
    "# in one month\n",
    "df_frequency = df.groupby('User_ID').datekey.count().reset_index()\n",
    "df_frequency.columns = ['User_ID','Frequency']\n",
    "#df_frequency"
   ]
  },
  {
   "cell_type": "code",
   "execution_count": 10,
   "metadata": {},
   "outputs": [],
   "source": [
    "#add this data to our main dataframe\n",
    "df_user = pd.merge(df_max_datekey, df_frequency, on='User_ID')"
   ]
  },
  {
   "cell_type": "code",
   "execution_count": 11,
   "metadata": {},
   "outputs": [],
   "source": [
    "df_user.drop('Max_datekey' , axis = 1 , inplace = True)"
   ]
  },
  {
   "cell_type": "markdown",
   "metadata": {},
   "source": [
    "**plotting the frequency**"
   ]
  },
  {
   "cell_type": "code",
   "execution_count": 12,
   "metadata": {},
   "outputs": [],
   "source": [
    "# counting the number of ID for each date\n",
    "dt = df.groupby('datekey').User_ID.count().reset_index()"
   ]
  },
  {
   "cell_type": "code",
   "execution_count": 13,
   "metadata": {
    "scrolled": false
   },
   "outputs": [
    {
     "data": {
      "text/plain": [
       "[<matplotlib.lines.Line2D at 0x25ade26ab08>]"
      ]
     },
     "execution_count": 13,
     "metadata": {},
     "output_type": "execute_result"
    },
    {
     "data": {
      "image/png": "[encoded data removed]",
      "text/plain": [
       "<Figure size 1800x504 with 1 Axes>"
      ]
     },
     "metadata": {
      "needs_background": "light"
     },
     "output_type": "display_data"
    }
   ],
   "source": [
    "dh = pd.Series(dt['User_ID'], index = dt['datekey'])\n",
    "dh = dh.cumsum()\n",
    "plt.figure(figsize = (25,7))\n",
    "plt.plot(dt['datekey'],dt['User_ID'])"
   ]
  },
  {
   "cell_type": "markdown",
   "metadata": {},
   "source": [
    "**The chart is descending and in the first ten days, the frequency of ids is much higher than the rest of the weeks**"
   ]
  },
  {
   "cell_type": "markdown",
   "metadata": {},
   "source": [
    "**Monetary**"
   ]
  },
  {
   "cell_type": "code",
   "execution_count": 15,
   "metadata": {},
   "outputs": [],
   "source": [
    "#calculate Monetary for each user\n",
    "df_Monetary = df.groupby('User_ID').Usage_MB.sum().reset_index()\n",
    "df_Monetary.columns = ['User_ID','Monetary']"
   ]
  },
  {
   "cell_type": "code",
   "execution_count": 16,
   "metadata": {},
   "outputs": [],
   "source": [
    "df_user = pd.merge(df_user, df_Monetary, on='User_ID',)"
   ]
  },
  {
   "cell_type": "code",
   "execution_count": 17,
   "metadata": {},
   "outputs": [],
   "source": [
    "df_user.set_index(keys = 'User_ID', inplace = True, drop=True)"
   ]
  },
  {
   "cell_type": "code",
   "execution_count": 18,
   "metadata": {},
   "outputs": [],
   "source": [
    "#df_user"
   ]
  },
  {
   "cell_type": "markdown",
   "metadata": {},
   "source": [
    "**RFM variables ranges**"
   ]
  },
  {
   "cell_type": "code",
   "execution_count": 19,
   "metadata": {},
   "outputs": [
    {
     "data": {
      "image/png": "[encoded data removed]",
      "text/plain": [
       "<Figure size 1440x360 with 3 Axes>"
      ]
     },
     "metadata": {
      "needs_background": "light"
     },
     "output_type": "display_data"
    }
   ],
   "source": [
    "fig , axes = plt.subplots(1,3, figsize = (20, 5))\n",
    "for i , feature in enumerate (list(df_user.columns)):\n",
    "    sns.distplot(df_user[feature], ax = axes[i])"
   ]
  },
  {
   "cell_type": "code",
   "execution_count": 20,
   "metadata": {
    "scrolled": true
   },
   "outputs": [
    {
     "data": {
      "text/html": [
       "<div>\n",
       "<style scoped>\n",
       "    .dataframe tbody tr th:only-of-type {\n",
       "        vertical-align: middle;\n",
       "    }\n",
       "\n",
       "    .dataframe tbody tr th {\n",
       "        vertical-align: top;\n",
       "    }\n",
       "\n",
       "    .dataframe thead th {\n",
       "        text-align: right;\n",
       "    }\n",
       "</style>\n",
       "<table border=\"1\" class=\"dataframe\">\n",
       "  <thead>\n",
       "    <tr style=\"text-align: right;\">\n",
       "      <th></th>\n",
       "      <th>Recency</th>\n",
       "      <th>Frequency</th>\n",
       "      <th>Monetary</th>\n",
       "    </tr>\n",
       "  </thead>\n",
       "  <tbody>\n",
       "    <tr>\n",
       "      <th>count</th>\n",
       "      <td>1.144125e+06</td>\n",
       "      <td>1.144125e+06</td>\n",
       "      <td>1.144125e+06</td>\n",
       "    </tr>\n",
       "    <tr>\n",
       "      <th>mean</th>\n",
       "      <td>1.222631e+01</td>\n",
       "      <td>3.279373e+00</td>\n",
       "      <td>2.525368e+03</td>\n",
       "    </tr>\n",
       "    <tr>\n",
       "      <th>std</th>\n",
       "      <td>9.383189e+00</td>\n",
       "      <td>4.109558e+00</td>\n",
       "      <td>5.998457e+03</td>\n",
       "    </tr>\n",
       "    <tr>\n",
       "      <th>min</th>\n",
       "      <td>0.000000e+00</td>\n",
       "      <td>1.000000e+00</td>\n",
       "      <td>1.000000e+00</td>\n",
       "    </tr>\n",
       "    <tr>\n",
       "      <th>25%</th>\n",
       "      <td>3.000000e+00</td>\n",
       "      <td>1.000000e+00</td>\n",
       "      <td>1.050000e+02</td>\n",
       "    </tr>\n",
       "    <tr>\n",
       "      <th>50%</th>\n",
       "      <td>1.100000e+01</td>\n",
       "      <td>2.000000e+00</td>\n",
       "      <td>6.150000e+02</td>\n",
       "    </tr>\n",
       "    <tr>\n",
       "      <th>75%</th>\n",
       "      <td>2.000000e+01</td>\n",
       "      <td>4.000000e+00</td>\n",
       "      <td>2.270000e+03</td>\n",
       "    </tr>\n",
       "    <tr>\n",
       "      <th>max</th>\n",
       "      <td>3.000000e+01</td>\n",
       "      <td>3.100000e+01</td>\n",
       "      <td>2.880050e+05</td>\n",
       "    </tr>\n",
       "  </tbody>\n",
       "</table>\n",
       "</div>"
      ],
      "text/plain": [
       "            Recency     Frequency      Monetary\n",
       "count  1.144125e+06  1.144125e+06  1.144125e+06\n",
       "mean   1.222631e+01  3.279373e+00  2.525368e+03\n",
       "std    9.383189e+00  4.109558e+00  5.998457e+03\n",
       "min    0.000000e+00  1.000000e+00  1.000000e+00\n",
       "25%    3.000000e+00  1.000000e+00  1.050000e+02\n",
       "50%    1.100000e+01  2.000000e+00  6.150000e+02\n",
       "75%    2.000000e+01  4.000000e+00  2.270000e+03\n",
       "max    3.000000e+01  3.100000e+01  2.880050e+05"
      ]
     },
     "metadata": {},
     "output_type": "display_data"
    }
   ],
   "source": [
    "#statistical informations\n",
    "display(df_user.describe())"
   ]
  },
  {
   "cell_type": "markdown",
   "metadata": {},
   "source": [
    "**Data Normalizing**"
   ]
  },
  {
   "cell_type": "code",
   "execution_count": 21,
   "metadata": {},
   "outputs": [
    {
     "data": {
      "text/html": [
       "<div>\n",
       "<style scoped>\n",
       "    .dataframe tbody tr th:only-of-type {\n",
       "        vertical-align: middle;\n",
       "    }\n",
       "\n",
       "    .dataframe tbody tr th {\n",
       "        vertical-align: top;\n",
       "    }\n",
       "\n",
       "    .dataframe thead th {\n",
       "        text-align: right;\n",
       "    }\n",
       "</style>\n",
       "<table border=\"1\" class=\"dataframe\">\n",
       "  <thead>\n",
       "    <tr style=\"text-align: right;\">\n",
       "      <th></th>\n",
       "      <th>n_Recency</th>\n",
       "      <th>n_Frequency</th>\n",
       "      <th>n_Monetary</th>\n",
       "    </tr>\n",
       "  </thead>\n",
       "  <tbody>\n",
       "    <tr>\n",
       "      <th>0</th>\n",
       "      <td>0.400000</td>\n",
       "      <td>0.000000</td>\n",
       "      <td>0.000024</td>\n",
       "    </tr>\n",
       "    <tr>\n",
       "      <th>1</th>\n",
       "      <td>0.966667</td>\n",
       "      <td>0.000000</td>\n",
       "      <td>0.000125</td>\n",
       "    </tr>\n",
       "    <tr>\n",
       "      <th>2</th>\n",
       "      <td>0.733333</td>\n",
       "      <td>0.000000</td>\n",
       "      <td>0.000042</td>\n",
       "    </tr>\n",
       "    <tr>\n",
       "      <th>3</th>\n",
       "      <td>0.000000</td>\n",
       "      <td>0.033333</td>\n",
       "      <td>0.015694</td>\n",
       "    </tr>\n",
       "    <tr>\n",
       "      <th>4</th>\n",
       "      <td>0.666667</td>\n",
       "      <td>0.066667</td>\n",
       "      <td>0.020607</td>\n",
       "    </tr>\n",
       "    <tr>\n",
       "      <th>...</th>\n",
       "      <td>...</td>\n",
       "      <td>...</td>\n",
       "      <td>...</td>\n",
       "    </tr>\n",
       "    <tr>\n",
       "      <th>1144120</th>\n",
       "      <td>0.100000</td>\n",
       "      <td>0.133333</td>\n",
       "      <td>0.012080</td>\n",
       "    </tr>\n",
       "    <tr>\n",
       "      <th>1144121</th>\n",
       "      <td>0.100000</td>\n",
       "      <td>0.333333</td>\n",
       "      <td>0.038972</td>\n",
       "    </tr>\n",
       "    <tr>\n",
       "      <th>1144122</th>\n",
       "      <td>0.733333</td>\n",
       "      <td>0.033333</td>\n",
       "      <td>0.001177</td>\n",
       "    </tr>\n",
       "    <tr>\n",
       "      <th>1144123</th>\n",
       "      <td>0.000000</td>\n",
       "      <td>0.200000</td>\n",
       "      <td>0.042805</td>\n",
       "    </tr>\n",
       "    <tr>\n",
       "      <th>1144124</th>\n",
       "      <td>0.600000</td>\n",
       "      <td>0.000000</td>\n",
       "      <td>0.000087</td>\n",
       "    </tr>\n",
       "  </tbody>\n",
       "</table>\n",
       "<p>1144125 rows × 3 columns</p>\n",
       "</div>"
      ],
      "text/plain": [
       "         n_Recency  n_Frequency  n_Monetary\n",
       "0         0.400000     0.000000    0.000024\n",
       "1         0.966667     0.000000    0.000125\n",
       "2         0.733333     0.000000    0.000042\n",
       "3         0.000000     0.033333    0.015694\n",
       "4         0.666667     0.066667    0.020607\n",
       "...            ...          ...         ...\n",
       "1144120   0.100000     0.133333    0.012080\n",
       "1144121   0.100000     0.333333    0.038972\n",
       "1144122   0.733333     0.033333    0.001177\n",
       "1144123   0.000000     0.200000    0.042805\n",
       "1144124   0.600000     0.000000    0.000087\n",
       "\n",
       "[1144125 rows x 3 columns]"
      ]
     },
     "execution_count": 21,
     "metadata": {},
     "output_type": "execute_result"
    }
   ],
   "source": [
    "scaler = MinMaxScaler()\n",
    "df_user_normalized = pd.DataFrame(scaler.fit_transform(df_user))\n",
    "df_user_normalized.columns = ['n_Recency' , 'n_Frequency', 'n_Monetary']\n",
    "df_user_normalized"
   ]
  },
  {
   "cell_type": "markdown",
   "metadata": {},
   "source": [
    "**K_means**"
   ]
  },
  {
   "cell_type": "code",
   "execution_count": 22,
   "metadata": {},
   "outputs": [],
   "source": [
    "# applying Elbow_method to fine the accurate number of clusters\n",
    "#start=dt.now()\n",
    "SSE = []\n",
    "for i in range(0 ,10):\n",
    "    kmeans = KMeans(n_clusters = i+1 , random_state = 1231).fit(df_user_normalized)\n",
    "    SSE.append(kmeans.inertia_)\n",
    "#time_of_execute=dt.now()-start    \n",
    "#print('time_of_execute:',time_of_execute)"
   ]
  },
  {
   "cell_type": "code",
   "execution_count": 23,
   "metadata": {},
   "outputs": [
    {
     "data": {
      "image/png": "[encoded data removed]",
      "text/plain": [
       "<Figure size 432x288 with 1 Axes>"
      ]
     },
     "metadata": {
      "needs_background": "light"
     },
     "output_type": "display_data"
    }
   ],
   "source": [
    "sns.pointplot(x = list(range(1,11)) , y = SSE)\n",
    "plt.show()\n",
    "\n",
    "# cluster = 4 or 5"
   ]
  },
  {
   "cell_type": "code",
   "execution_count": 24,
   "metadata": {},
   "outputs": [],
   "source": [
    "# Applying KMeans Model\n",
    "Model = KMeans(n_clusters = 4 , random_state = 1231).fit(df_user_normalized)\n",
    "centers = Model.cluster_centers_"
   ]
  },
  {
   "cell_type": "code",
   "execution_count": 25,
   "metadata": {
    "scrolled": true
   },
   "outputs": [
    {
     "data": {
      "text/plain": [
       "<mpl_toolkits.mplot3d.art3d.Path3DCollection at 0x25a800d44c8>"
      ]
     },
     "execution_count": 25,
     "metadata": {},
     "output_type": "execute_result"
    },
    {
     "data": {
      "image/png": "[encoded data removed]",
      "text/plain": [
       "<Figure size 432x288 with 1 Axes>"
      ]
     },
     "metadata": {
      "needs_background": "light"
     },
     "output_type": "display_data"
    }
   ],
   "source": [
    "from mpl_toolkits.mplot3d.axes3d import get_test_data\n",
    "fig = plt.figure()\n",
    "ax = fig.add_subplot(111, projection='3d')\n",
    "ax.scatter(df_user_normalized['n_Recency'], df_user_normalized['n_Frequency'], df_user_normalized['n_Monetary'] , cmap = 'brg'\n",
    "            , c = Model.predict(df_user_normalized) , label = ['0','1','2','3'])\n",
    "ax.scatter(centers[:, 0], centers[:, 1], c = 'black')"
   ]
  },
  {
   "cell_type": "markdown",
   "metadata": {},
   "source": [
    "**Identify the clusters**"
   ]
  },
  {
   "cell_type": "code",
   "execution_count": 26,
   "metadata": {},
   "outputs": [],
   "source": [
    "df_user.columns = df_user.columns"
   ]
  },
  {
   "cell_type": "code",
   "execution_count": 27,
   "metadata": {},
   "outputs": [],
   "source": [
    "df_user['Cluster'] = Model.labels_"
   ]
  },
  {
   "cell_type": "code",
   "execution_count": 28,
   "metadata": {},
   "outputs": [
    {
     "data": {
      "text/html": [
       "<div>\n",
       "<style scoped>\n",
       "    .dataframe tbody tr th:only-of-type {\n",
       "        vertical-align: middle;\n",
       "    }\n",
       "\n",
       "    .dataframe tbody tr th {\n",
       "        vertical-align: top;\n",
       "    }\n",
       "\n",
       "    .dataframe thead th {\n",
       "        text-align: right;\n",
       "    }\n",
       "</style>\n",
       "<table border=\"1\" class=\"dataframe\">\n",
       "  <thead>\n",
       "    <tr style=\"text-align: right;\">\n",
       "      <th></th>\n",
       "      <th>Recency</th>\n",
       "      <th>Frequency</th>\n",
       "      <th>Monetary</th>\n",
       "      <th>Cluster</th>\n",
       "    </tr>\n",
       "    <tr>\n",
       "      <th>User_ID</th>\n",
       "      <th></th>\n",
       "      <th></th>\n",
       "      <th></th>\n",
       "      <th></th>\n",
       "    </tr>\n",
       "  </thead>\n",
       "  <tbody>\n",
       "    <tr>\n",
       "      <th>2</th>\n",
       "      <td>12</td>\n",
       "      <td>1</td>\n",
       "      <td>8</td>\n",
       "      <td>0</td>\n",
       "    </tr>\n",
       "    <tr>\n",
       "      <th>3</th>\n",
       "      <td>29</td>\n",
       "      <td>1</td>\n",
       "      <td>37</td>\n",
       "      <td>1</td>\n",
       "    </tr>\n",
       "    <tr>\n",
       "      <th>5</th>\n",
       "      <td>22</td>\n",
       "      <td>1</td>\n",
       "      <td>13</td>\n",
       "      <td>1</td>\n",
       "    </tr>\n",
       "    <tr>\n",
       "      <th>8</th>\n",
       "      <td>0</td>\n",
       "      <td>2</td>\n",
       "      <td>4521</td>\n",
       "      <td>2</td>\n",
       "    </tr>\n",
       "    <tr>\n",
       "      <th>9</th>\n",
       "      <td>20</td>\n",
       "      <td>3</td>\n",
       "      <td>5936</td>\n",
       "      <td>1</td>\n",
       "    </tr>\n",
       "    <tr>\n",
       "      <th>...</th>\n",
       "      <td>...</td>\n",
       "      <td>...</td>\n",
       "      <td>...</td>\n",
       "      <td>...</td>\n",
       "    </tr>\n",
       "    <tr>\n",
       "      <th>1659068</th>\n",
       "      <td>3</td>\n",
       "      <td>5</td>\n",
       "      <td>3480</td>\n",
       "      <td>2</td>\n",
       "    </tr>\n",
       "    <tr>\n",
       "      <th>1659069</th>\n",
       "      <td>3</td>\n",
       "      <td>11</td>\n",
       "      <td>11225</td>\n",
       "      <td>3</td>\n",
       "    </tr>\n",
       "    <tr>\n",
       "      <th>1659071</th>\n",
       "      <td>22</td>\n",
       "      <td>2</td>\n",
       "      <td>340</td>\n",
       "      <td>1</td>\n",
       "    </tr>\n",
       "    <tr>\n",
       "      <th>1659072</th>\n",
       "      <td>0</td>\n",
       "      <td>7</td>\n",
       "      <td>12329</td>\n",
       "      <td>2</td>\n",
       "    </tr>\n",
       "    <tr>\n",
       "      <th>1659073</th>\n",
       "      <td>18</td>\n",
       "      <td>1</td>\n",
       "      <td>26</td>\n",
       "      <td>0</td>\n",
       "    </tr>\n",
       "  </tbody>\n",
       "</table>\n",
       "<p>1144125 rows × 4 columns</p>\n",
       "</div>"
      ],
      "text/plain": [
       "         Recency  Frequency  Monetary  Cluster\n",
       "User_ID                                       \n",
       "2             12          1         8        0\n",
       "3             29          1        37        1\n",
       "5             22          1        13        1\n",
       "8              0          2      4521        2\n",
       "9             20          3      5936        1\n",
       "...          ...        ...       ...      ...\n",
       "1659068        3          5      3480        2\n",
       "1659069        3         11     11225        3\n",
       "1659071       22          2       340        1\n",
       "1659072        0          7     12329        2\n",
       "1659073       18          1        26        0\n",
       "\n",
       "[1144125 rows x 4 columns]"
      ]
     },
     "execution_count": 28,
     "metadata": {},
     "output_type": "execute_result"
    }
   ],
   "source": [
    "df_user"
   ]
  },
  {
   "cell_type": "code",
   "execution_count": 29,
   "metadata": {},
   "outputs": [
    {
     "data": {
      "text/html": [
       "<div>\n",
       "<style scoped>\n",
       "    .dataframe tbody tr th:only-of-type {\n",
       "        vertical-align: middle;\n",
       "    }\n",
       "\n",
       "    .dataframe tbody tr th {\n",
       "        vertical-align: top;\n",
       "    }\n",
       "\n",
       "    .dataframe thead tr th {\n",
       "        text-align: left;\n",
       "    }\n",
       "\n",
       "    .dataframe thead tr:last-of-type th {\n",
       "        text-align: right;\n",
       "    }\n",
       "</style>\n",
       "<table border=\"1\" class=\"dataframe\">\n",
       "  <thead>\n",
       "    <tr>\n",
       "      <th></th>\n",
       "      <th colspan=\"3\" halign=\"left\">Recency</th>\n",
       "      <th colspan=\"3\" halign=\"left\">Frequency</th>\n",
       "      <th colspan=\"4\" halign=\"left\">Monetary</th>\n",
       "      <th>Customer_Label</th>\n",
       "    </tr>\n",
       "    <tr>\n",
       "      <th></th>\n",
       "      <th>mean</th>\n",
       "      <th>min</th>\n",
       "      <th>max</th>\n",
       "      <th>mean</th>\n",
       "      <th>min</th>\n",
       "      <th>max</th>\n",
       "      <th>mean</th>\n",
       "      <th>min</th>\n",
       "      <th>max</th>\n",
       "      <th>count</th>\n",
       "      <th></th>\n",
       "    </tr>\n",
       "    <tr>\n",
       "      <th>Cluster</th>\n",
       "      <th></th>\n",
       "      <th></th>\n",
       "      <th></th>\n",
       "      <th></th>\n",
       "      <th></th>\n",
       "      <th></th>\n",
       "      <th></th>\n",
       "      <th></th>\n",
       "      <th></th>\n",
       "      <th></th>\n",
       "      <th></th>\n",
       "    </tr>\n",
       "  </thead>\n",
       "  <tbody>\n",
       "    <tr>\n",
       "      <th>0</th>\n",
       "      <td>14.029227</td>\n",
       "      <td>9</td>\n",
       "      <td>20</td>\n",
       "      <td>2.296767</td>\n",
       "      <td>1</td>\n",
       "      <td>15</td>\n",
       "      <td>1528.191060</td>\n",
       "      <td>1</td>\n",
       "      <td>130853</td>\n",
       "      <td>346053</td>\n",
       "      <td>Normal</td>\n",
       "    </tr>\n",
       "    <tr>\n",
       "      <th>1</th>\n",
       "      <td>24.851173</td>\n",
       "      <td>20</td>\n",
       "      <td>30</td>\n",
       "      <td>1.528187</td>\n",
       "      <td>1</td>\n",
       "      <td>10</td>\n",
       "      <td>895.270863</td>\n",
       "      <td>1</td>\n",
       "      <td>93128</td>\n",
       "      <td>305483</td>\n",
       "      <td>Bad</td>\n",
       "    </tr>\n",
       "    <tr>\n",
       "      <th>2</th>\n",
       "      <td>3.406814</td>\n",
       "      <td>0</td>\n",
       "      <td>9</td>\n",
       "      <td>2.825822</td>\n",
       "      <td>1</td>\n",
       "      <td>9</td>\n",
       "      <td>1952.766903</td>\n",
       "      <td>1</td>\n",
       "      <td>113628</td>\n",
       "      <td>399804</td>\n",
       "      <td>Good</td>\n",
       "    </tr>\n",
       "    <tr>\n",
       "      <th>3</th>\n",
       "      <td>1.938966</td>\n",
       "      <td>0</td>\n",
       "      <td>15</td>\n",
       "      <td>14.664008</td>\n",
       "      <td>8</td>\n",
       "      <td>31</td>\n",
       "      <td>14078.648736</td>\n",
       "      <td>13</td>\n",
       "      <td>288005</td>\n",
       "      <td>92785</td>\n",
       "      <td>Excellent</td>\n",
       "    </tr>\n",
       "  </tbody>\n",
       "</table>\n",
       "</div>"
      ],
      "text/plain": [
       "           Recency          Frequency              Monetary              \\\n",
       "              mean min max       mean min max          mean min     max   \n",
       "Cluster                                                                   \n",
       "0        14.029227   9  20   2.296767   1  15   1528.191060   1  130853   \n",
       "1        24.851173  20  30   1.528187   1  10    895.270863   1   93128   \n",
       "2         3.406814   0   9   2.825822   1   9   1952.766903   1  113628   \n",
       "3         1.938966   0  15  14.664008   8  31  14078.648736  13  288005   \n",
       "\n",
       "                Customer_Label  \n",
       "          count                 \n",
       "Cluster                         \n",
       "0        346053         Normal  \n",
       "1        305483            Bad  \n",
       "2        399804           Good  \n",
       "3         92785      Excellent  "
      ]
     },
     "execution_count": 29,
     "metadata": {},
     "output_type": "execute_result"
    }
   ],
   "source": [
    "summery_of_df_user = pd.DataFrame(df_user.groupby('Cluster').agg({\n",
    "                                                                    'Recency':['mean','min', 'max'],\n",
    "                                                                    'Frequency':['mean','min', 'max'],\n",
    "                                                                    'Monetary':['mean','min', 'max','count']}))\n",
    "\n",
    "summery_of_df_user[\"Customer_Label\"] = ['Normal','Bad','Good','Excellent']\n",
    "summery_of_df_user"
   ]
  },
  {
   "cell_type": "code",
   "execution_count": 30,
   "metadata": {},
   "outputs": [
    {
     "name": "stderr",
     "output_type": "stream",
     "text": [
      "C:\\Users\\My\\anaconda3\\lib\\site-packages\\pandas\\core\\indexing.py:670: SettingWithCopyWarning: \n",
      "A value is trying to be set on a copy of a slice from a DataFrame\n",
      "\n",
      "See the caveats in the documentation: https://pandas.pydata.org/pandas-docs/stable/user_guide/indexing.html#returning-a-view-versus-a-copy\n",
      "  self._setitem_with_indexer(indexer, value)\n"
     ]
    },
    {
     "data": {
      "text/html": [
       "<div>\n",
       "<style scoped>\n",
       "    .dataframe tbody tr th:only-of-type {\n",
       "        vertical-align: middle;\n",
       "    }\n",
       "\n",
       "    .dataframe tbody tr th {\n",
       "        vertical-align: top;\n",
       "    }\n",
       "\n",
       "    .dataframe thead th {\n",
       "        text-align: right;\n",
       "    }\n",
       "</style>\n",
       "<table border=\"1\" class=\"dataframe\">\n",
       "  <thead>\n",
       "    <tr style=\"text-align: right;\">\n",
       "      <th></th>\n",
       "      <th>Recency</th>\n",
       "      <th>Frequency</th>\n",
       "      <th>Monetary</th>\n",
       "      <th>Cluster</th>\n",
       "      <th>Customer_Label</th>\n",
       "    </tr>\n",
       "    <tr>\n",
       "      <th>User_ID</th>\n",
       "      <th></th>\n",
       "      <th></th>\n",
       "      <th></th>\n",
       "      <th></th>\n",
       "      <th></th>\n",
       "    </tr>\n",
       "  </thead>\n",
       "  <tbody>\n",
       "    <tr>\n",
       "      <th>2</th>\n",
       "      <td>12</td>\n",
       "      <td>1</td>\n",
       "      <td>8</td>\n",
       "      <td>0</td>\n",
       "      <td>Normal</td>\n",
       "    </tr>\n",
       "    <tr>\n",
       "      <th>3</th>\n",
       "      <td>29</td>\n",
       "      <td>1</td>\n",
       "      <td>37</td>\n",
       "      <td>1</td>\n",
       "      <td>Bad</td>\n",
       "    </tr>\n",
       "    <tr>\n",
       "      <th>5</th>\n",
       "      <td>22</td>\n",
       "      <td>1</td>\n",
       "      <td>13</td>\n",
       "      <td>1</td>\n",
       "      <td>Bad</td>\n",
       "    </tr>\n",
       "    <tr>\n",
       "      <th>8</th>\n",
       "      <td>0</td>\n",
       "      <td>2</td>\n",
       "      <td>4521</td>\n",
       "      <td>2</td>\n",
       "      <td>Good</td>\n",
       "    </tr>\n",
       "    <tr>\n",
       "      <th>9</th>\n",
       "      <td>20</td>\n",
       "      <td>3</td>\n",
       "      <td>5936</td>\n",
       "      <td>1</td>\n",
       "      <td>Bad</td>\n",
       "    </tr>\n",
       "    <tr>\n",
       "      <th>...</th>\n",
       "      <td>...</td>\n",
       "      <td>...</td>\n",
       "      <td>...</td>\n",
       "      <td>...</td>\n",
       "      <td>...</td>\n",
       "    </tr>\n",
       "    <tr>\n",
       "      <th>1659068</th>\n",
       "      <td>3</td>\n",
       "      <td>5</td>\n",
       "      <td>3480</td>\n",
       "      <td>2</td>\n",
       "      <td>Good</td>\n",
       "    </tr>\n",
       "    <tr>\n",
       "      <th>1659069</th>\n",
       "      <td>3</td>\n",
       "      <td>11</td>\n",
       "      <td>11225</td>\n",
       "      <td>3</td>\n",
       "      <td>Excellent</td>\n",
       "    </tr>\n",
       "    <tr>\n",
       "      <th>1659071</th>\n",
       "      <td>22</td>\n",
       "      <td>2</td>\n",
       "      <td>340</td>\n",
       "      <td>1</td>\n",
       "      <td>Bad</td>\n",
       "    </tr>\n",
       "    <tr>\n",
       "      <th>1659072</th>\n",
       "      <td>0</td>\n",
       "      <td>7</td>\n",
       "      <td>12329</td>\n",
       "      <td>2</td>\n",
       "      <td>Good</td>\n",
       "    </tr>\n",
       "    <tr>\n",
       "      <th>1659073</th>\n",
       "      <td>18</td>\n",
       "      <td>1</td>\n",
       "      <td>26</td>\n",
       "      <td>0</td>\n",
       "      <td>Normal</td>\n",
       "    </tr>\n",
       "  </tbody>\n",
       "</table>\n",
       "<p>1144125 rows × 5 columns</p>\n",
       "</div>"
      ],
      "text/plain": [
       "         Recency  Frequency  Monetary  Cluster Customer_Label\n",
       "User_ID                                                      \n",
       "2             12          1         8        0         Normal\n",
       "3             29          1        37        1            Bad\n",
       "5             22          1        13        1            Bad\n",
       "8              0          2      4521        2           Good\n",
       "9             20          3      5936        1            Bad\n",
       "...          ...        ...       ...      ...            ...\n",
       "1659068        3          5      3480        2           Good\n",
       "1659069        3         11     11225        3      Excellent\n",
       "1659071       22          2       340        1            Bad\n",
       "1659072        0          7     12329        2           Good\n",
       "1659073       18          1        26        0         Normal\n",
       "\n",
       "[1144125 rows x 5 columns]"
      ]
     },
     "execution_count": 30,
     "metadata": {},
     "output_type": "execute_result"
    }
   ],
   "source": [
    " #creating a null column\n",
    "df_user['Customer_Label'] = np.nan \n",
    "\n",
    "#Description of each cluster \n",
    "df_user['Customer_Label'].loc[df_user['Cluster'] == 0] = \"Normal\"\n",
    "df_user['Customer_Label'].loc[df_user['Cluster'] == 1] = \"Bad\"\n",
    "df_user['Customer_Label'].loc[df_user['Cluster'] == 2] = \"Good\"\n",
    "df_user['Customer_Label'].loc[df_user['Cluster'] == 3] = \"Excellent\"\n",
    "df_user"
   ]
  },
  {
   "cell_type": "markdown",
   "metadata": {},
   "source": [
    "**changing the type of Gender and Device_Type columns**"
   ]
  },
  {
   "cell_type": "code",
   "execution_count": 31,
   "metadata": {},
   "outputs": [],
   "source": [
    "df['categorized_gender'] = df.gender_v.astype('category').cat.codes"
   ]
  },
  {
   "cell_type": "code",
   "execution_count": 32,
   "metadata": {},
   "outputs": [
    {
     "data": {
      "text/plain": [
       "{0: 'F', 1: 'M'}"
      ]
     },
     "execution_count": 32,
     "metadata": {},
     "output_type": "execute_result"
    }
   ],
   "source": [
    "Gender = df.gender_v.astype('category')\n",
    "G_Definition = dict(enumerate(Gender.cat.categories))\n",
    "G_Definition"
   ]
  },
  {
   "cell_type": "code",
   "execution_count": 33,
   "metadata": {
    "scrolled": true
   },
   "outputs": [
    {
     "data": {
      "text/plain": [
       "{0: 'Basic phone',\n",
       " 1: 'Feature phone',\n",
       " 2: 'Other devices',\n",
       " 3: 'Smart phone',\n",
       " 4: 'Tablet'}"
      ]
     },
     "execution_count": 33,
     "metadata": {},
     "output_type": "execute_result"
    }
   ],
   "source": [
    "df['ctg_Device_type'] = df.device_type.astype('category').cat.codes\n",
    "Device = df.device_type.astype('category')\n",
    "D_Definition = dict(enumerate(Device.cat.categories))\n",
    "D_Definition"
   ]
  },
  {
   "cell_type": "code",
   "execution_count": 34,
   "metadata": {},
   "outputs": [],
   "source": [
    "df_user_2 = df.groupby('User_ID').agg({'ctg_Device_type': 'max',\n",
    "                                       'age' : 'max',\n",
    "                                      'categorized_gender' : 'max'})"
   ]
  },
  {
   "cell_type": "code",
   "execution_count": 35,
   "metadata": {},
   "outputs": [],
   "source": [
    "df_user = pd.merge(df_user, df_user_2, on='User_ID')"
   ]
  },
  {
   "cell_type": "code",
   "execution_count": 36,
   "metadata": {
    "scrolled": true
   },
   "outputs": [
    {
     "data": {
      "text/html": [
       "<div>\n",
       "<style scoped>\n",
       "    .dataframe tbody tr th:only-of-type {\n",
       "        vertical-align: middle;\n",
       "    }\n",
       "\n",
       "    .dataframe tbody tr th {\n",
       "        vertical-align: top;\n",
       "    }\n",
       "\n",
       "    .dataframe thead th {\n",
       "        text-align: right;\n",
       "    }\n",
       "</style>\n",
       "<table border=\"1\" class=\"dataframe\">\n",
       "  <thead>\n",
       "    <tr style=\"text-align: right;\">\n",
       "      <th></th>\n",
       "      <th>Recency</th>\n",
       "      <th>Frequency</th>\n",
       "      <th>Monetary</th>\n",
       "      <th>Cluster</th>\n",
       "      <th>Customer_Label</th>\n",
       "      <th>ctg_Device_type</th>\n",
       "      <th>age</th>\n",
       "      <th>categorized_gender</th>\n",
       "    </tr>\n",
       "    <tr>\n",
       "      <th>User_ID</th>\n",
       "      <th></th>\n",
       "      <th></th>\n",
       "      <th></th>\n",
       "      <th></th>\n",
       "      <th></th>\n",
       "      <th></th>\n",
       "      <th></th>\n",
       "      <th></th>\n",
       "    </tr>\n",
       "  </thead>\n",
       "  <tbody>\n",
       "    <tr>\n",
       "      <th>2</th>\n",
       "      <td>12</td>\n",
       "      <td>1</td>\n",
       "      <td>8</td>\n",
       "      <td>0</td>\n",
       "      <td>Normal</td>\n",
       "      <td>3</td>\n",
       "      <td>37</td>\n",
       "      <td>1</td>\n",
       "    </tr>\n",
       "    <tr>\n",
       "      <th>3</th>\n",
       "      <td>29</td>\n",
       "      <td>1</td>\n",
       "      <td>37</td>\n",
       "      <td>1</td>\n",
       "      <td>Bad</td>\n",
       "      <td>3</td>\n",
       "      <td>46</td>\n",
       "      <td>1</td>\n",
       "    </tr>\n",
       "    <tr>\n",
       "      <th>5</th>\n",
       "      <td>22</td>\n",
       "      <td>1</td>\n",
       "      <td>13</td>\n",
       "      <td>1</td>\n",
       "      <td>Bad</td>\n",
       "      <td>3</td>\n",
       "      <td>32</td>\n",
       "      <td>1</td>\n",
       "    </tr>\n",
       "    <tr>\n",
       "      <th>8</th>\n",
       "      <td>0</td>\n",
       "      <td>2</td>\n",
       "      <td>4521</td>\n",
       "      <td>2</td>\n",
       "      <td>Good</td>\n",
       "      <td>3</td>\n",
       "      <td>40</td>\n",
       "      <td>1</td>\n",
       "    </tr>\n",
       "    <tr>\n",
       "      <th>9</th>\n",
       "      <td>20</td>\n",
       "      <td>3</td>\n",
       "      <td>5936</td>\n",
       "      <td>1</td>\n",
       "      <td>Bad</td>\n",
       "      <td>3</td>\n",
       "      <td>31</td>\n",
       "      <td>0</td>\n",
       "    </tr>\n",
       "    <tr>\n",
       "      <th>...</th>\n",
       "      <td>...</td>\n",
       "      <td>...</td>\n",
       "      <td>...</td>\n",
       "      <td>...</td>\n",
       "      <td>...</td>\n",
       "      <td>...</td>\n",
       "      <td>...</td>\n",
       "      <td>...</td>\n",
       "    </tr>\n",
       "    <tr>\n",
       "      <th>1659068</th>\n",
       "      <td>3</td>\n",
       "      <td>5</td>\n",
       "      <td>3480</td>\n",
       "      <td>2</td>\n",
       "      <td>Good</td>\n",
       "      <td>3</td>\n",
       "      <td>43</td>\n",
       "      <td>0</td>\n",
       "    </tr>\n",
       "    <tr>\n",
       "      <th>1659069</th>\n",
       "      <td>3</td>\n",
       "      <td>11</td>\n",
       "      <td>11225</td>\n",
       "      <td>3</td>\n",
       "      <td>Excellent</td>\n",
       "      <td>3</td>\n",
       "      <td>50</td>\n",
       "      <td>1</td>\n",
       "    </tr>\n",
       "    <tr>\n",
       "      <th>1659071</th>\n",
       "      <td>22</td>\n",
       "      <td>2</td>\n",
       "      <td>340</td>\n",
       "      <td>1</td>\n",
       "      <td>Bad</td>\n",
       "      <td>3</td>\n",
       "      <td>30</td>\n",
       "      <td>1</td>\n",
       "    </tr>\n",
       "    <tr>\n",
       "      <th>1659072</th>\n",
       "      <td>0</td>\n",
       "      <td>7</td>\n",
       "      <td>12329</td>\n",
       "      <td>2</td>\n",
       "      <td>Good</td>\n",
       "      <td>3</td>\n",
       "      <td>20</td>\n",
       "      <td>1</td>\n",
       "    </tr>\n",
       "    <tr>\n",
       "      <th>1659073</th>\n",
       "      <td>18</td>\n",
       "      <td>1</td>\n",
       "      <td>26</td>\n",
       "      <td>0</td>\n",
       "      <td>Normal</td>\n",
       "      <td>3</td>\n",
       "      <td>47</td>\n",
       "      <td>0</td>\n",
       "    </tr>\n",
       "  </tbody>\n",
       "</table>\n",
       "<p>1144125 rows × 8 columns</p>\n",
       "</div>"
      ],
      "text/plain": [
       "         Recency  Frequency  Monetary  Cluster Customer_Label  \\\n",
       "User_ID                                                         \n",
       "2             12          1         8        0         Normal   \n",
       "3             29          1        37        1            Bad   \n",
       "5             22          1        13        1            Bad   \n",
       "8              0          2      4521        2           Good   \n",
       "9             20          3      5936        1            Bad   \n",
       "...          ...        ...       ...      ...            ...   \n",
       "1659068        3          5      3480        2           Good   \n",
       "1659069        3         11     11225        3      Excellent   \n",
       "1659071       22          2       340        1            Bad   \n",
       "1659072        0          7     12329        2           Good   \n",
       "1659073       18          1        26        0         Normal   \n",
       "\n",
       "         ctg_Device_type  age  categorized_gender  \n",
       "User_ID                                            \n",
       "2                      3   37                   1  \n",
       "3                      3   46                   1  \n",
       "5                      3   32                   1  \n",
       "8                      3   40                   1  \n",
       "9                      3   31                   0  \n",
       "...                  ...  ...                 ...  \n",
       "1659068                3   43                   0  \n",
       "1659069                3   50                   1  \n",
       "1659071                3   30                   1  \n",
       "1659072                3   20                   1  \n",
       "1659073                3   47                   0  \n",
       "\n",
       "[1144125 rows x 8 columns]"
      ]
     },
     "execution_count": 36,
     "metadata": {},
     "output_type": "execute_result"
    }
   ],
   "source": [
    "df_user"
   ]
  },
  {
   "cell_type": "markdown",
   "metadata": {},
   "source": [
    "**Calculating the average age in each cluster**"
   ]
  },
  {
   "cell_type": "code",
   "execution_count": 37,
   "metadata": {},
   "outputs": [
    {
     "data": {
      "text/plain": [
       "37"
      ]
     },
     "execution_count": 37,
     "metadata": {},
     "output_type": "execute_result"
    }
   ],
   "source": [
    "#Customer_Label = Normal\n",
    "df_normal = df_user[df_user['Customer_Label'] == 'Normal']\n",
    "age_N_mean = int(df_user['age'].mean())\n",
    "age_N_mean"
   ]
  },
  {
   "cell_type": "code",
   "execution_count": 38,
   "metadata": {},
   "outputs": [
    {
     "data": {
      "text/plain": [
       "37"
      ]
     },
     "execution_count": 38,
     "metadata": {},
     "output_type": "execute_result"
    }
   ],
   "source": [
    "#Customer_Label = Good\n",
    "df_good = df_user[df_user['Customer_Label'] == 'Good']\n",
    "age_G_mean = int(df_user['age'].mean())\n",
    "age_G_mean"
   ]
  },
  {
   "cell_type": "code",
   "execution_count": 39,
   "metadata": {},
   "outputs": [
    {
     "data": {
      "text/plain": [
       "37"
      ]
     },
     "execution_count": 39,
     "metadata": {},
     "output_type": "execute_result"
    }
   ],
   "source": [
    "#Customer_Label = Bad\n",
    "df_Bad = df_user[df_user['Customer_Label'] == 'Bad']\n",
    "age_B_mean = int(df_Bad['age'].mean())\n",
    "age_B_mean"
   ]
  },
  {
   "cell_type": "code",
   "execution_count": 40,
   "metadata": {},
   "outputs": [
    {
     "data": {
      "text/plain": [
       "37"
      ]
     },
     "execution_count": 40,
     "metadata": {},
     "output_type": "execute_result"
    }
   ],
   "source": [
    "#Customer_Label = Excellent\n",
    "df_Excellent = df_user[df_user['Customer_Label'] == 'Excellent']\n",
    "age_E_mean = int(df_Excellent['age'].mean())\n",
    "age_E_mean"
   ]
  },
  {
   "cell_type": "code",
   "execution_count": 42,
   "metadata": {},
   "outputs": [
    {
     "data": {
      "text/plain": [
       "37"
      ]
     },
     "execution_count": 42,
     "metadata": {},
     "output_type": "execute_result"
    }
   ],
   "source": [
    "# the mean of Statistical population\n",
    "mean = int(df_user['age'].mean())\n",
    "mean"
   ]
  },
  {
   "cell_type": "markdown",
   "metadata": {},
   "source": [
    "Due to the irrational data in the age column, we use the IQR method to calculate the acceptable age range and then replace the average age of each cluster with these numbers. "
   ]
  },
  {
   "cell_type": "code",
   "execution_count": 43,
   "metadata": {},
   "outputs": [
    {
     "name": "stdout",
     "output_type": "stream",
     "text": [
      "IQR = 15.0   Q3 = 44.0   Q1 =  29.0\n"
     ]
    }
   ],
   "source": [
    "# Computing IQR\n",
    "Q1 = df_user['age'].quantile(0.25)\n",
    "Q3 = df_user['age'].quantile(0.75)\n",
    "IQR = Q3 - Q1\n",
    "print('IQR =',IQR ,' ' ,'Q3 =' , Q3,' ', 'Q1 = ' ,Q1)"
   ]
  },
  {
   "cell_type": "code",
   "execution_count": 44,
   "metadata": {},
   "outputs": [
    {
     "name": "stdout",
     "output_type": "stream",
     "text": [
      "Q11 = 6.5   Q22 = 66.5\n"
     ]
    }
   ],
   "source": [
    "Q11 = Q1 - 1.5*IQR\n",
    "Q22 = Q3 + 1.5*IQR\n",
    "print('Q11 =' ,Q11 ,' ' ,'Q22 =', Q22)"
   ]
  },
  {
   "cell_type": "markdown",
   "metadata": {},
   "source": [
    "Consider the number 70 for the upper age range instead of the number 66.5\n",
    "(More details in word)"
   ]
  },
  {
   "cell_type": "code",
   "execution_count": 45,
   "metadata": {},
   "outputs": [
    {
     "name": "stderr",
     "output_type": "stream",
     "text": [
      "C:\\Users\\My\\anaconda3\\lib\\site-packages\\pandas\\core\\indexing.py:670: SettingWithCopyWarning: \n",
      "A value is trying to be set on a copy of a slice from a DataFrame\n",
      "\n",
      "See the caveats in the documentation: https://pandas.pydata.org/pandas-docs/stable/user_guide/indexing.html#returning-a-view-versus-a-copy\n",
      "  self._setitem_with_indexer(indexer, value)\n"
     ]
    }
   ],
   "source": [
    "df_user['age'].loc[df_user['age']>70] = mean"
   ]
  },
  {
   "cell_type": "code",
   "execution_count": 46,
   "metadata": {},
   "outputs": [
    {
     "data": {
      "text/plain": [
       "70"
      ]
     },
     "execution_count": 46,
     "metadata": {},
     "output_type": "execute_result"
    }
   ],
   "source": [
    "df_user['age'].max()"
   ]
  },
  {
   "cell_type": "markdown",
   "metadata": {},
   "source": [
    "**Further analysis**"
   ]
  },
  {
   "cell_type": "markdown",
   "metadata": {},
   "source": [
    "Based on **gender** :"
   ]
  },
  {
   "cell_type": "code",
   "execution_count": 47,
   "metadata": {
    "scrolled": false
   },
   "outputs": [
    {
     "name": "stdout",
     "output_type": "stream",
     "text": [
      "The ratio of women to men in the main dataframe: \n"
     ]
    },
    {
     "data": {
      "text/plain": [
       "gender_v\n",
       "F    36.336148\n",
       "M    63.663852\n",
       "Name: User_ID, dtype: float64"
      ]
     },
     "execution_count": 47,
     "metadata": {},
     "output_type": "execute_result"
    }
   ],
   "source": [
    "print('The ratio of women to men in the main dataframe: ')\n",
    "(df.groupby('gender_v').User_ID.count())/len(df['User_ID'])*100"
   ]
  },
  {
   "cell_type": "code",
   "execution_count": 48,
   "metadata": {},
   "outputs": [],
   "source": [
    "df_user_resetindex = df_user.reset_index()"
   ]
  },
  {
   "cell_type": "code",
   "execution_count": 49,
   "metadata": {},
   "outputs": [
    {
     "name": "stdout",
     "output_type": "stream",
     "text": [
      "The ratio of women to men in the Excellent cluster: categorized_gender\n",
      "0    34.83645\n",
      "1    65.16355\n",
      "Name: User_ID, dtype: float64\n",
      "\n",
      "The ratio of women to men in the Good cluster: categorized_gender\n",
      "0    37.250503\n",
      "1    62.749497\n",
      "Name: User_ID, dtype: float64\n",
      "\n",
      "The ratio of women to men in the normal cluster:  categorized_gender\n",
      "0    37.643656\n",
      "1    62.356344\n",
      "Name: User_ID, dtype: float64\n",
      "\n",
      "The ratio of women to men in the Bad cluster: categorized_gender\n",
      "0    37.965451\n",
      "1    62.034549\n",
      "Name: User_ID, dtype: float64\n"
     ]
    }
   ],
   "source": [
    "Excellent_users =  df_user_resetindex[df_user_resetindex['Customer_Label'] == 'Excellent']\n",
    "E = (Excellent_users.groupby('categorized_gender').User_ID.count())/len(Excellent_users['User_ID'])*100\n",
    "\n",
    "Good_users =  df_user_resetindex[df_user_resetindex['Customer_Label'] == 'Good']\n",
    "G = (Good_users.groupby('categorized_gender').User_ID.count())/len(Good_users['User_ID'])*100\n",
    "\n",
    "Normal_users =  df_user_resetindex[df_user_resetindex['Customer_Label'] == 'Normal']\n",
    "N = (Normal_users.groupby('categorized_gender').User_ID.count())/len(Normal_users['User_ID'])*100\n",
    "\n",
    "Bad_users = df_user_resetindex[df_user_resetindex['Customer_Label'] == 'Bad']\n",
    "B = (Bad_users.groupby('categorized_gender').User_ID.count())/len(Bad_users['User_ID'])*100\n",
    "\n",
    "print('The ratio of women to men in the Excellent cluster:' ,E)\n",
    "print('')\n",
    "print('The ratio of women to men in the Good cluster:', G)\n",
    "print('')\n",
    "print('The ratio of women to men in the normal cluster: ' , N)\n",
    "print('')\n",
    "print('The ratio of women to men in the Bad cluster:' , B)"
   ]
  },
  {
   "cell_type": "markdown",
   "metadata": {},
   "source": [
    "**so:** The ratio of women to men in clusters is the **same**."
   ]
  },
  {
   "cell_type": "markdown",
   "metadata": {},
   "source": [
    "...................................................................."
   ]
  },
  {
   "cell_type": "markdown",
   "metadata": {},
   "source": [
    "Based on **Device Type** :"
   ]
  },
  {
   "cell_type": "code",
   "execution_count": 50,
   "metadata": {},
   "outputs": [
    {
     "name": "stdout",
     "output_type": "stream",
     "text": [
      "The ratio of Device type in the Excellent cluster: ctg_Device_type\n",
      "0     0.226330\n",
      "1     0.344883\n",
      "2     0.001078\n",
      "3    94.654308\n",
      "4     4.773401\n",
      "Name: User_ID, dtype: float64\n",
      "\n",
      "The ratio of Device type in the Good cluster: ctg_Device_type\n",
      "0     0.409951\n",
      "1     0.541765\n",
      "2     0.000250\n",
      "3    95.311703\n",
      "4     3.736331\n",
      "Name: User_ID, dtype: float64\n",
      "\n",
      "The ratio of Device type in the normal cluster:  ctg_Device_type\n",
      "0     0.521596\n",
      "1     0.685155\n",
      "2     0.000867\n",
      "3    95.051336\n",
      "4     3.741045\n",
      "Name: User_ID, dtype: float64\n",
      "\n",
      "The ratio of Device type in the Bad cluster: ctg_Device_type\n",
      "0     0.732283\n",
      "1     0.945388\n",
      "2     0.000327\n",
      "3    94.567946\n",
      "4     3.754055\n",
      "Name: User_ID, dtype: float64\n"
     ]
    }
   ],
   "source": [
    "Excellent_users =  df_user_resetindex[df_user_resetindex['Customer_Label'] == 'Excellent']\n",
    "ED = (Excellent_users.groupby('ctg_Device_type').User_ID.count())/len(Excellent_users['User_ID'])*100\n",
    "\n",
    "Good_users =  df_user_resetindex[df_user_resetindex['Customer_Label'] == 'Good']\n",
    "GD = (Good_users.groupby('ctg_Device_type').User_ID.count())/len(Good_users['User_ID'])*100\n",
    "\n",
    "Normal_users =  df_user_resetindex[df_user_resetindex['Customer_Label'] == 'Normal']\n",
    "ND = (Normal_users.groupby('ctg_Device_type').User_ID.count())/len(Normal_users['User_ID'])*100\n",
    "\n",
    "Bad_users = df_user_resetindex[df_user_resetindex['Customer_Label'] == 'Bad']\n",
    "BD = (Bad_users.groupby('ctg_Device_type').User_ID.count())/len(Bad_users['User_ID'])*100\n",
    "\n",
    "print('The ratio of Device type in the Excellent cluster:' ,ED)\n",
    "print('')\n",
    "print('The ratio of Device type in the Good cluster:', GD)\n",
    "print('')\n",
    "print('The ratio of Device type in the normal cluster: ' , ND)\n",
    "print('')\n",
    "print('The ratio of Device type in the Bad cluster:' , BD)"
   ]
  },
  {
   "cell_type": "markdown",
   "metadata": {},
   "source": [
    "**so:** The ratio of using of the third Device type (samart phone) is the same in the clustrs"
   ]
  },
  {
   "cell_type": "markdown",
   "metadata": {},
   "source": [
    "..........................................................."
   ]
  },
  {
   "cell_type": "markdown",
   "metadata": {},
   "source": [
    "Based on the **age** :"
   ]
  },
  {
   "cell_type": "code",
   "execution_count": 51,
   "metadata": {},
   "outputs": [
    {
     "data": {
      "text/plain": [
       "categorized_gender  Customer_Label  ctg_Device_type\n",
       "0                   Bad             0                    13\n",
       "                                    1                    18\n",
       "                                    3                  1724\n",
       "                                    4                    30\n",
       "                    Excellent       1                     1\n",
       "                                    3                   388\n",
       "                                    4                     4\n",
       "                    Good            0                    13\n",
       "                                    1                    19\n",
       "                                    3                  2849\n",
       "                                    4                    44\n",
       "                    Normal          0                    13\n",
       "                                    1                    10\n",
       "                                    3                  1986\n",
       "                                    4                    34\n",
       "1                   Bad             0                    34\n",
       "                                    1                    28\n",
       "                                    3                  2134\n",
       "                                    4                    46\n",
       "                    Excellent       0                     2\n",
       "                                    1                     2\n",
       "                                    3                   464\n",
       "                                    4                     6\n",
       "                    Good            0                    25\n",
       "                                    1                    29\n",
       "                                    3                  3216\n",
       "                                    4                    51\n",
       "                    Normal          0                    19\n",
       "                                    1                    19\n",
       "                                    3                  2360\n",
       "                                    4                    45\n",
       "Name: User_ID, dtype: int64"
      ]
     },
     "execution_count": 51,
     "metadata": {},
     "output_type": "execute_result"
    }
   ],
   "source": [
    "# less_than_20\n",
    "less_than_20 = df_user_resetindex[df_user_resetindex['age']<20]\n",
    "less_than_20.groupby(['categorized_gender','Customer_Label', 'ctg_Device_type']).User_ID.count()"
   ]
  },
  {
   "cell_type": "code",
   "execution_count": 52,
   "metadata": {
    "scrolled": true
   },
   "outputs": [
    {
     "data": {
      "text/plain": [
       "categorized_gender  Customer_Label  ctg_Device_type\n",
       "0                   Bad             0                     384\n",
       "                                    1                     518\n",
       "                                    3                   64095\n",
       "                                    4                    2414\n",
       "                    Excellent       0                      31\n",
       "                                    1                      43\n",
       "                                    3                   18296\n",
       "                                    4                     960\n",
       "                    Good            0                     283\n",
       "                                    1                     365\n",
       "                                    3                   83570\n",
       "                                    4                    3179\n",
       "                    Normal          0                     289\n",
       "                                    1                     449\n",
       "                                    3                   72635\n",
       "                                    4                    2691\n",
       "1                   Bad             0                     928\n",
       "                                    1                    1167\n",
       "                                    2                       1\n",
       "                                    3                  105091\n",
       "                                    4                    3424\n",
       "                    Excellent       0                     102\n",
       "                                    1                     157\n",
       "                                    2                       1\n",
       "                                    3                   36593\n",
       "                                    4                    1391\n",
       "                    Good            0                     660\n",
       "                                    1                     873\n",
       "                                    2                       1\n",
       "                                    3                  142871\n",
       "                                    4                    4464\n",
       "                    Normal          0                     755\n",
       "                                    1                     934\n",
       "                                    2                       1\n",
       "                                    3                  121454\n",
       "                                    4                    3831\n",
       "Name: User_ID, dtype: int64"
      ]
     },
     "execution_count": 52,
     "metadata": {},
     "output_type": "execute_result"
    }
   ],
   "source": [
    "# between 20 to 40\n",
    "between_20_to_40 = df_user_resetindex[(df_user_resetindex['age']>20)&(df_user_resetindex['age']<40)]\n",
    "between_20_to_40.groupby(['categorized_gender','Customer_Label', 'ctg_Device_type']).User_ID.count()"
   ]
  },
  {
   "cell_type": "code",
   "execution_count": 53,
   "metadata": {
    "scrolled": true
   },
   "outputs": [
    {
     "data": {
      "text/plain": [
       "categorized_gender  Customer_Label  ctg_Device_type\n",
       "0                   Bad             0                    278\n",
       "                                    1                    354\n",
       "                                    3                  34346\n",
       "                                    4                   1381\n",
       "                    Excellent       0                     14\n",
       "                                    1                     31\n",
       "                                    3                   9199\n",
       "                                    4                    477\n",
       "                    Good            0                    188\n",
       "                                    1                    268\n",
       "                                    3                  42753\n",
       "                                    4                   1799\n",
       "                    Normal          0                    210\n",
       "                                    1                    302\n",
       "                                    3                  38573\n",
       "                                    4                   1597\n",
       "1                   Bad             0                    387\n",
       "                                    1                    514\n",
       "                                    3                  57461\n",
       "                                    4                   2989\n",
       "                    Excellent       0                     43\n",
       "                                    1                     57\n",
       "                                    3                  15873\n",
       "                                    4                   1140\n",
       "                    Good            0                    301\n",
       "                                    1                    376\n",
       "                                    3                  73965\n",
       "                                    4                   3962\n",
       "                    Normal          0                    334\n",
       "                                    1                    451\n",
       "                                    2                      2\n",
       "                                    3                  64566\n",
       "                                    4                   3508\n",
       "Name: User_ID, dtype: int64"
      ]
     },
     "execution_count": 53,
     "metadata": {},
     "output_type": "execute_result"
    }
   ],
   "source": [
    "# between 40 to 60\n",
    "between_40_to_60 = df_user_resetindex[(df_user_resetindex['age']>40)&(df_user_resetindex['age']<60)]\n",
    "between_40_to_60.groupby(['categorized_gender','Customer_Label', 'ctg_Device_type']).User_ID.count()"
   ]
  },
  {
   "cell_type": "code",
   "execution_count": 54,
   "metadata": {},
   "outputs": [
    {
     "data": {
      "text/plain": [
       "categorized_gender  Customer_Label  ctg_Device_type\n",
       "0                   Bad             0                    50\n",
       "                                    1                    63\n",
       "                                    3                  3540\n",
       "                                    4                   175\n",
       "                    Excellent       0                     7\n",
       "                                    1                     3\n",
       "                                    3                  1025\n",
       "                                    4                    57\n",
       "                    Good            0                    32\n",
       "                                    1                    42\n",
       "                                    3                  4324\n",
       "                                    4                   202\n",
       "                    Normal          0                    43\n",
       "                                    1                    31\n",
       "                                    3                  3920\n",
       "                                    4                   172\n",
       "1                   Bad             0                    48\n",
       "                                    1                    66\n",
       "                                    3                  5315\n",
       "                                    4                   258\n",
       "                    Excellent       0                     5\n",
       "                                    1                     7\n",
       "                                    3                  1628\n",
       "                                    4                    91\n",
       "                    Good            0                    36\n",
       "                                    1                    61\n",
       "                                    3                  6619\n",
       "                                    4                   308\n",
       "                    Normal          0                    42\n",
       "                                    1                    51\n",
       "                                    3                  6140\n",
       "                                    4                   282\n",
       "Name: User_ID, dtype: int64"
      ]
     },
     "execution_count": 54,
     "metadata": {},
     "output_type": "execute_result"
    }
   ],
   "source": [
    "# more then 60\n",
    "more_then_60 = df_user_resetindex[df_user_resetindex['age']>60]\n",
    "more_then_60.groupby(['categorized_gender','Customer_Label', 'ctg_Device_type']).User_ID.count()"
   ]
  }
 ],
 "metadata": {
  "kernelspec": {
   "display_name": "Python 3",
   "language": "python",
   "name": "python3"
  },
  "language_info": {
   "codemirror_mode": {
    "name": "ipython",
    "version": 3
   },
   "file_extension": ".py",
   "mimetype": "text/x-python",
   "name": "python",
   "nbconvert_exporter": "python",
   "pygments_lexer": "ipython3",
   "version": "3.7.6"
  }
 },
 "nbformat": 4,
 "nbformat_minor": 4
}
