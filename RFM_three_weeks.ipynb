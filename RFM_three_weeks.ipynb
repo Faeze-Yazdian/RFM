{
 "cells": [
  {
   "cell_type": "code",
   "execution_count": 22,
   "metadata": {},
   "outputs": [],
   "source": [
    "import pandas as pd\n",
    "import numpy as np\n",
    "import datetime as dt\n",
    "import matplotlib.pyplot as plt\n",
    "import seaborn as sns\n",
    "from sklearn.preprocessing import MinMaxScaler\n",
    "from sklearn.cluster import KMeans"
   ]
  },
  {
   "cell_type": "code",
   "execution_count": 23,
   "metadata": {},
   "outputs": [],
   "source": [
    "df = pd.read_csv(\"C:\\\\Users\\\\My\\\\Desktop\\\\data.csv\", parse_dates=['datekey'])"
   ]
  },
  {
   "cell_type": "code",
   "execution_count": 24,
   "metadata": {},
   "outputs": [],
   "source": [
    "#df.sort_values('User_ID').head(10)"
   ]
  },
  {
   "cell_type": "code",
   "execution_count": 25,
   "metadata": {},
   "outputs": [
    {
     "data": {
      "text/plain": [
       "User_ID        0\n",
       "datekey        0\n",
       "Usage_MB       0\n",
       "age            0\n",
       "gender_v       0\n",
       "device_type    0\n",
       "dtype: int64"
      ]
     },
     "execution_count": 25,
     "metadata": {},
     "output_type": "execute_result"
    }
   ],
   "source": [
    "df.isna().sum()"
   ]
  },
  {
   "cell_type": "code",
   "execution_count": 26,
   "metadata": {},
   "outputs": [
    {
     "name": "stdout",
     "output_type": "stream",
     "text": [
      "<class 'pandas.core.frame.DataFrame'>\n",
      "RangeIndex: 3752013 entries, 0 to 3752012\n",
      "Data columns (total 6 columns):\n",
      " #   Column       Dtype         \n",
      "---  ------       -----         \n",
      " 0   User_ID      int64         \n",
      " 1   datekey      datetime64[ns]\n",
      " 2   Usage_MB     int64         \n",
      " 3   age          int64         \n",
      " 4   gender_v     object        \n",
      " 5   device_type  object        \n",
      "dtypes: datetime64[ns](1), int64(3), object(2)\n",
      "memory usage: 171.8+ MB\n"
     ]
    }
   ],
   "source": [
    "df.info()"
   ]
  },
  {
   "cell_type": "markdown",
   "metadata": {},
   "source": [
    "**Recency**"
   ]
  },
  {
   "cell_type": "code",
   "execution_count": 27,
   "metadata": {},
   "outputs": [
    {
     "data": {
      "text/html": [
       "<div>\n",
       "<style scoped>\n",
       "    .dataframe tbody tr th:only-of-type {\n",
       "        vertical-align: middle;\n",
       "    }\n",
       "\n",
       "    .dataframe tbody tr th {\n",
       "        vertical-align: top;\n",
       "    }\n",
       "\n",
       "    .dataframe thead th {\n",
       "        text-align: right;\n",
       "    }\n",
       "</style>\n",
       "<table border=\"1\" class=\"dataframe\">\n",
       "  <thead>\n",
       "    <tr style=\"text-align: right;\">\n",
       "      <th></th>\n",
       "      <th>User_ID</th>\n",
       "      <th>Max_datekey</th>\n",
       "    </tr>\n",
       "  </thead>\n",
       "  <tbody>\n",
       "    <tr>\n",
       "      <th>0</th>\n",
       "      <td>2</td>\n",
       "      <td>2021-02-17</td>\n",
       "    </tr>\n",
       "    <tr>\n",
       "      <th>1</th>\n",
       "      <td>3</td>\n",
       "      <td>2021-01-31</td>\n",
       "    </tr>\n",
       "    <tr>\n",
       "      <th>2</th>\n",
       "      <td>5</td>\n",
       "      <td>2021-02-07</td>\n",
       "    </tr>\n",
       "    <tr>\n",
       "      <th>3</th>\n",
       "      <td>8</td>\n",
       "      <td>2021-03-01</td>\n",
       "    </tr>\n",
       "    <tr>\n",
       "      <th>4</th>\n",
       "      <td>9</td>\n",
       "      <td>2021-02-09</td>\n",
       "    </tr>\n",
       "    <tr>\n",
       "      <th>...</th>\n",
       "      <td>...</td>\n",
       "      <td>...</td>\n",
       "    </tr>\n",
       "    <tr>\n",
       "      <th>1144120</th>\n",
       "      <td>1659068</td>\n",
       "      <td>2021-02-26</td>\n",
       "    </tr>\n",
       "    <tr>\n",
       "      <th>1144121</th>\n",
       "      <td>1659069</td>\n",
       "      <td>2021-02-26</td>\n",
       "    </tr>\n",
       "    <tr>\n",
       "      <th>1144122</th>\n",
       "      <td>1659071</td>\n",
       "      <td>2021-02-07</td>\n",
       "    </tr>\n",
       "    <tr>\n",
       "      <th>1144123</th>\n",
       "      <td>1659072</td>\n",
       "      <td>2021-03-01</td>\n",
       "    </tr>\n",
       "    <tr>\n",
       "      <th>1144124</th>\n",
       "      <td>1659073</td>\n",
       "      <td>2021-02-11</td>\n",
       "    </tr>\n",
       "  </tbody>\n",
       "</table>\n",
       "<p>1144125 rows × 2 columns</p>\n",
       "</div>"
      ],
      "text/plain": [
       "         User_ID Max_datekey\n",
       "0              2  2021-02-17\n",
       "1              3  2021-01-31\n",
       "2              5  2021-02-07\n",
       "3              8  2021-03-01\n",
       "4              9  2021-02-09\n",
       "...          ...         ...\n",
       "1144120  1659068  2021-02-26\n",
       "1144121  1659069  2021-02-26\n",
       "1144122  1659071  2021-02-07\n",
       "1144123  1659072  2021-03-01\n",
       "1144124  1659073  2021-02-11\n",
       "\n",
       "[1144125 rows x 2 columns]"
      ]
     },
     "execution_count": 27,
     "metadata": {},
     "output_type": "execute_result"
    }
   ],
   "source": [
    "# having the max datekey for each user_ID and create a new data frame with it\n",
    "df_max_datekey = df.groupby('User_ID').datekey.max().reset_index()\n",
    "df_max_datekey.columns = ['User_ID', 'Max_datekey']\n",
    "df_max_datekey"
   ]
  },
  {
   "cell_type": "code",
   "execution_count": 28,
   "metadata": {
    "scrolled": true
   },
   "outputs": [
    {
     "data": {
      "text/html": [
       "<div>\n",
       "<style scoped>\n",
       "    .dataframe tbody tr th:only-of-type {\n",
       "        vertical-align: middle;\n",
       "    }\n",
       "\n",
       "    .dataframe tbody tr th {\n",
       "        vertical-align: top;\n",
       "    }\n",
       "\n",
       "    .dataframe thead th {\n",
       "        text-align: right;\n",
       "    }\n",
       "</style>\n",
       "<table border=\"1\" class=\"dataframe\">\n",
       "  <thead>\n",
       "    <tr style=\"text-align: right;\">\n",
       "      <th></th>\n",
       "      <th>User_ID</th>\n",
       "      <th>Recency</th>\n",
       "    </tr>\n",
       "  </thead>\n",
       "  <tbody>\n",
       "    <tr>\n",
       "      <th>0</th>\n",
       "      <td>2</td>\n",
       "      <td>12</td>\n",
       "    </tr>\n",
       "    <tr>\n",
       "      <th>1</th>\n",
       "      <td>3</td>\n",
       "      <td>29</td>\n",
       "    </tr>\n",
       "    <tr>\n",
       "      <th>2</th>\n",
       "      <td>5</td>\n",
       "      <td>22</td>\n",
       "    </tr>\n",
       "    <tr>\n",
       "      <th>3</th>\n",
       "      <td>8</td>\n",
       "      <td>0</td>\n",
       "    </tr>\n",
       "    <tr>\n",
       "      <th>4</th>\n",
       "      <td>9</td>\n",
       "      <td>20</td>\n",
       "    </tr>\n",
       "    <tr>\n",
       "      <th>...</th>\n",
       "      <td>...</td>\n",
       "      <td>...</td>\n",
       "    </tr>\n",
       "    <tr>\n",
       "      <th>1144120</th>\n",
       "      <td>1659068</td>\n",
       "      <td>3</td>\n",
       "    </tr>\n",
       "    <tr>\n",
       "      <th>1144121</th>\n",
       "      <td>1659069</td>\n",
       "      <td>3</td>\n",
       "    </tr>\n",
       "    <tr>\n",
       "      <th>1144122</th>\n",
       "      <td>1659071</td>\n",
       "      <td>22</td>\n",
       "    </tr>\n",
       "    <tr>\n",
       "      <th>1144123</th>\n",
       "      <td>1659072</td>\n",
       "      <td>0</td>\n",
       "    </tr>\n",
       "    <tr>\n",
       "      <th>1144124</th>\n",
       "      <td>1659073</td>\n",
       "      <td>18</td>\n",
       "    </tr>\n",
       "  </tbody>\n",
       "</table>\n",
       "<p>1144125 rows × 2 columns</p>\n",
       "</div>"
      ],
      "text/plain": [
       "         User_ID  Recency\n",
       "0              2       12\n",
       "1              3       29\n",
       "2              5       22\n",
       "3              8        0\n",
       "4              9       20\n",
       "...          ...      ...\n",
       "1144120  1659068        3\n",
       "1144121  1659069        3\n",
       "1144122  1659071       22\n",
       "1144123  1659072        0\n",
       "1144124  1659073       18\n",
       "\n",
       "[1144125 rows x 2 columns]"
      ]
     },
     "execution_count": 28,
     "metadata": {},
     "output_type": "execute_result"
    }
   ],
   "source": [
    "# calculating the days between the max date and the dates\n",
    "# Recency is the number of days, each ID is inactive\n",
    "df_max_datekey['Recency'] = (df_max_datekey['Max_datekey'].max() - df_max_datekey['Max_datekey']).dt.days\n",
    "df_max_datekey[['User_ID','Recency']]"
   ]
  },
  {
   "cell_type": "markdown",
   "metadata": {},
   "source": [
    "**Frequency**"
   ]
  },
  {
   "cell_type": "code",
   "execution_count": 29,
   "metadata": {},
   "outputs": [],
   "source": [
    "df['three_weeks'] = np.nan"
   ]
  },
  {
   "cell_type": "code",
   "execution_count": 30,
   "metadata": {},
   "outputs": [
    {
     "name": "stderr",
     "output_type": "stream",
     "text": [
      "C:\\Users\\My\\anaconda3\\lib\\site-packages\\pandas\\core\\indexing.py:670: SettingWithCopyWarning: \n",
      "A value is trying to be set on a copy of a slice from a DataFrame\n",
      "\n",
      "See the caveats in the documentation: https://pandas.pydata.org/pandas-docs/stable/user_guide/indexing.html#returning-a-view-versus-a-copy\n",
      "  self._setitem_with_indexer(indexer, value)\n"
     ]
    }
   ],
   "source": [
    "# defining 0 as the fisrt 7 days of the month and 1 as the rest of the month in the 'three_weeks' column\n",
    "df['three_weeks'].loc[df['datekey'] < '2021-02-05'] = 0\n",
    "df['three_weeks'].loc[df['datekey'] > '2021-02-05'] = 1"
   ]
  },
  {
   "cell_type": "code",
   "execution_count": 31,
   "metadata": {},
   "outputs": [],
   "source": [
    "df_Frequency = df.groupby('User_ID').three_weeks.sum().reset_index()\n",
    "df_Frequency.columns = ['User_ID','Frequency']"
   ]
  },
  {
   "cell_type": "code",
   "execution_count": 32,
   "metadata": {},
   "outputs": [
    {
     "data": {
      "text/html": [
       "<div>\n",
       "<style scoped>\n",
       "    .dataframe tbody tr th:only-of-type {\n",
       "        vertical-align: middle;\n",
       "    }\n",
       "\n",
       "    .dataframe tbody tr th {\n",
       "        vertical-align: top;\n",
       "    }\n",
       "\n",
       "    .dataframe thead th {\n",
       "        text-align: right;\n",
       "    }\n",
       "</style>\n",
       "<table border=\"1\" class=\"dataframe\">\n",
       "  <thead>\n",
       "    <tr style=\"text-align: right;\">\n",
       "      <th></th>\n",
       "      <th>User_ID</th>\n",
       "      <th>Frequency</th>\n",
       "    </tr>\n",
       "  </thead>\n",
       "  <tbody>\n",
       "    <tr>\n",
       "      <th>0</th>\n",
       "      <td>2</td>\n",
       "      <td>1</td>\n",
       "    </tr>\n",
       "    <tr>\n",
       "      <th>1</th>\n",
       "      <td>3</td>\n",
       "      <td>0</td>\n",
       "    </tr>\n",
       "    <tr>\n",
       "      <th>2</th>\n",
       "      <td>5</td>\n",
       "      <td>1</td>\n",
       "    </tr>\n",
       "    <tr>\n",
       "      <th>3</th>\n",
       "      <td>8</td>\n",
       "      <td>2</td>\n",
       "    </tr>\n",
       "    <tr>\n",
       "      <th>4</th>\n",
       "      <td>9</td>\n",
       "      <td>3</td>\n",
       "    </tr>\n",
       "    <tr>\n",
       "      <th>...</th>\n",
       "      <td>...</td>\n",
       "      <td>...</td>\n",
       "    </tr>\n",
       "    <tr>\n",
       "      <th>1144120</th>\n",
       "      <td>1659068</td>\n",
       "      <td>5</td>\n",
       "    </tr>\n",
       "    <tr>\n",
       "      <th>1144121</th>\n",
       "      <td>1659069</td>\n",
       "      <td>11</td>\n",
       "    </tr>\n",
       "    <tr>\n",
       "      <th>1144122</th>\n",
       "      <td>1659071</td>\n",
       "      <td>2</td>\n",
       "    </tr>\n",
       "    <tr>\n",
       "      <th>1144123</th>\n",
       "      <td>1659072</td>\n",
       "      <td>6</td>\n",
       "    </tr>\n",
       "    <tr>\n",
       "      <th>1144124</th>\n",
       "      <td>1659073</td>\n",
       "      <td>1</td>\n",
       "    </tr>\n",
       "  </tbody>\n",
       "</table>\n",
       "<p>1144125 rows × 2 columns</p>\n",
       "</div>"
      ],
      "text/plain": [
       "         User_ID  Frequency\n",
       "0              2          1\n",
       "1              3          0\n",
       "2              5          1\n",
       "3              8          2\n",
       "4              9          3\n",
       "...          ...        ...\n",
       "1144120  1659068          5\n",
       "1144121  1659069         11\n",
       "1144122  1659071          2\n",
       "1144123  1659072          6\n",
       "1144124  1659073          1\n",
       "\n",
       "[1144125 rows x 2 columns]"
      ]
     },
     "execution_count": 32,
     "metadata": {},
     "output_type": "execute_result"
    }
   ],
   "source": [
    "df_Frequency = df_Frequency.astype('int')\n",
    "df_Frequency"
   ]
  },
  {
   "cell_type": "code",
   "execution_count": 33,
   "metadata": {},
   "outputs": [],
   "source": [
    "#add this data to our main dataframe\n",
    "df_user = pd.merge(df_max_datekey, df_Frequency, on='User_ID')"
   ]
  },
  {
   "cell_type": "code",
   "execution_count": 34,
   "metadata": {},
   "outputs": [],
   "source": [
    "df_user.drop('Max_datekey' , axis = 1 , inplace = True)"
   ]
  },
  {
   "cell_type": "markdown",
   "metadata": {},
   "source": [
    "**Monetary**"
   ]
  },
  {
   "cell_type": "code",
   "execution_count": 35,
   "metadata": {},
   "outputs": [],
   "source": [
    "#calculate Monetary for each user\n",
    "df_Monetary = df.groupby(['User_ID','three_weeks']).Usage_MB.sum().reset_index()\n",
    "#df_Monetary.columns = ['User_ID','Monetary']"
   ]
  },
  {
   "cell_type": "code",
   "execution_count": 36,
   "metadata": {},
   "outputs": [
    {
     "name": "stderr",
     "output_type": "stream",
     "text": [
      "C:\\Users\\My\\anaconda3\\lib\\site-packages\\pandas\\core\\indexing.py:670: SettingWithCopyWarning: \n",
      "A value is trying to be set on a copy of a slice from a DataFrame\n",
      "\n",
      "See the caveats in the documentation: https://pandas.pydata.org/pandas-docs/stable/user_guide/indexing.html#returning-a-view-versus-a-copy\n",
      "  self._setitem_with_indexer(indexer, value)\n"
     ]
    }
   ],
   "source": [
    "import numpy as np\n",
    "df_Monetary['Usage_MB'].loc[df_Monetary['three_weeks'] == 0] = 0"
   ]
  },
  {
   "cell_type": "code",
   "execution_count": 37,
   "metadata": {},
   "outputs": [],
   "source": [
    "df_Monetary_1 = df_Monetary.groupby('User_ID').Usage_MB.sum().reset_index()\n",
    "df_Monetary_1.columns = ['User_ID' , 'Monetary']"
   ]
  },
  {
   "cell_type": "code",
   "execution_count": 38,
   "metadata": {},
   "outputs": [
    {
     "data": {
      "text/html": [
       "<div>\n",
       "<style scoped>\n",
       "    .dataframe tbody tr th:only-of-type {\n",
       "        vertical-align: middle;\n",
       "    }\n",
       "\n",
       "    .dataframe tbody tr th {\n",
       "        vertical-align: top;\n",
       "    }\n",
       "\n",
       "    .dataframe thead th {\n",
       "        text-align: right;\n",
       "    }\n",
       "</style>\n",
       "<table border=\"1\" class=\"dataframe\">\n",
       "  <thead>\n",
       "    <tr style=\"text-align: right;\">\n",
       "      <th></th>\n",
       "      <th>User_ID</th>\n",
       "      <th>Monetary</th>\n",
       "    </tr>\n",
       "  </thead>\n",
       "  <tbody>\n",
       "    <tr>\n",
       "      <th>0</th>\n",
       "      <td>2</td>\n",
       "      <td>8</td>\n",
       "    </tr>\n",
       "    <tr>\n",
       "      <th>1</th>\n",
       "      <td>3</td>\n",
       "      <td>0</td>\n",
       "    </tr>\n",
       "    <tr>\n",
       "      <th>2</th>\n",
       "      <td>5</td>\n",
       "      <td>13</td>\n",
       "    </tr>\n",
       "    <tr>\n",
       "      <th>3</th>\n",
       "      <td>8</td>\n",
       "      <td>4521</td>\n",
       "    </tr>\n",
       "    <tr>\n",
       "      <th>4</th>\n",
       "      <td>9</td>\n",
       "      <td>5936</td>\n",
       "    </tr>\n",
       "    <tr>\n",
       "      <th>...</th>\n",
       "      <td>...</td>\n",
       "      <td>...</td>\n",
       "    </tr>\n",
       "    <tr>\n",
       "      <th>1120441</th>\n",
       "      <td>1659068</td>\n",
       "      <td>3480</td>\n",
       "    </tr>\n",
       "    <tr>\n",
       "      <th>1120442</th>\n",
       "      <td>1659069</td>\n",
       "      <td>11225</td>\n",
       "    </tr>\n",
       "    <tr>\n",
       "      <th>1120443</th>\n",
       "      <td>1659071</td>\n",
       "      <td>340</td>\n",
       "    </tr>\n",
       "    <tr>\n",
       "      <th>1120444</th>\n",
       "      <td>1659072</td>\n",
       "      <td>8111</td>\n",
       "    </tr>\n",
       "    <tr>\n",
       "      <th>1120445</th>\n",
       "      <td>1659073</td>\n",
       "      <td>26</td>\n",
       "    </tr>\n",
       "  </tbody>\n",
       "</table>\n",
       "<p>1120446 rows × 2 columns</p>\n",
       "</div>"
      ],
      "text/plain": [
       "         User_ID  Monetary\n",
       "0              2         8\n",
       "1              3         0\n",
       "2              5        13\n",
       "3              8      4521\n",
       "4              9      5936\n",
       "...          ...       ...\n",
       "1120441  1659068      3480\n",
       "1120442  1659069     11225\n",
       "1120443  1659071       340\n",
       "1120444  1659072      8111\n",
       "1120445  1659073        26\n",
       "\n",
       "[1120446 rows x 2 columns]"
      ]
     },
     "execution_count": 38,
     "metadata": {},
     "output_type": "execute_result"
    }
   ],
   "source": [
    "df_Monetary_1"
   ]
  },
  {
   "cell_type": "code",
   "execution_count": 39,
   "metadata": {},
   "outputs": [],
   "source": [
    "df_user = pd.merge(df_user, df_Monetary_1, on='User_ID',)"
   ]
  },
  {
   "cell_type": "code",
   "execution_count": 40,
   "metadata": {
    "scrolled": false
   },
   "outputs": [
    {
     "data": {
      "text/html": [
       "<div>\n",
       "<style scoped>\n",
       "    .dataframe tbody tr th:only-of-type {\n",
       "        vertical-align: middle;\n",
       "    }\n",
       "\n",
       "    .dataframe tbody tr th {\n",
       "        vertical-align: top;\n",
       "    }\n",
       "\n",
       "    .dataframe thead th {\n",
       "        text-align: right;\n",
       "    }\n",
       "</style>\n",
       "<table border=\"1\" class=\"dataframe\">\n",
       "  <thead>\n",
       "    <tr style=\"text-align: right;\">\n",
       "      <th></th>\n",
       "      <th>User_ID</th>\n",
       "      <th>Recency</th>\n",
       "      <th>Frequency</th>\n",
       "      <th>Monetary</th>\n",
       "    </tr>\n",
       "  </thead>\n",
       "  <tbody>\n",
       "    <tr>\n",
       "      <th>0</th>\n",
       "      <td>2</td>\n",
       "      <td>12</td>\n",
       "      <td>1</td>\n",
       "      <td>8</td>\n",
       "    </tr>\n",
       "    <tr>\n",
       "      <th>1</th>\n",
       "      <td>3</td>\n",
       "      <td>29</td>\n",
       "      <td>0</td>\n",
       "      <td>0</td>\n",
       "    </tr>\n",
       "    <tr>\n",
       "      <th>2</th>\n",
       "      <td>5</td>\n",
       "      <td>22</td>\n",
       "      <td>1</td>\n",
       "      <td>13</td>\n",
       "    </tr>\n",
       "    <tr>\n",
       "      <th>3</th>\n",
       "      <td>8</td>\n",
       "      <td>0</td>\n",
       "      <td>2</td>\n",
       "      <td>4521</td>\n",
       "    </tr>\n",
       "    <tr>\n",
       "      <th>4</th>\n",
       "      <td>9</td>\n",
       "      <td>20</td>\n",
       "      <td>3</td>\n",
       "      <td>5936</td>\n",
       "    </tr>\n",
       "    <tr>\n",
       "      <th>...</th>\n",
       "      <td>...</td>\n",
       "      <td>...</td>\n",
       "      <td>...</td>\n",
       "      <td>...</td>\n",
       "    </tr>\n",
       "    <tr>\n",
       "      <th>1120441</th>\n",
       "      <td>1659068</td>\n",
       "      <td>3</td>\n",
       "      <td>5</td>\n",
       "      <td>3480</td>\n",
       "    </tr>\n",
       "    <tr>\n",
       "      <th>1120442</th>\n",
       "      <td>1659069</td>\n",
       "      <td>3</td>\n",
       "      <td>11</td>\n",
       "      <td>11225</td>\n",
       "    </tr>\n",
       "    <tr>\n",
       "      <th>1120443</th>\n",
       "      <td>1659071</td>\n",
       "      <td>22</td>\n",
       "      <td>2</td>\n",
       "      <td>340</td>\n",
       "    </tr>\n",
       "    <tr>\n",
       "      <th>1120444</th>\n",
       "      <td>1659072</td>\n",
       "      <td>0</td>\n",
       "      <td>6</td>\n",
       "      <td>8111</td>\n",
       "    </tr>\n",
       "    <tr>\n",
       "      <th>1120445</th>\n",
       "      <td>1659073</td>\n",
       "      <td>18</td>\n",
       "      <td>1</td>\n",
       "      <td>26</td>\n",
       "    </tr>\n",
       "  </tbody>\n",
       "</table>\n",
       "<p>1120446 rows × 4 columns</p>\n",
       "</div>"
      ],
      "text/plain": [
       "         User_ID  Recency  Frequency  Monetary\n",
       "0              2       12          1         8\n",
       "1              3       29          0         0\n",
       "2              5       22          1        13\n",
       "3              8        0          2      4521\n",
       "4              9       20          3      5936\n",
       "...          ...      ...        ...       ...\n",
       "1120441  1659068        3          5      3480\n",
       "1120442  1659069        3         11     11225\n",
       "1120443  1659071       22          2       340\n",
       "1120444  1659072        0          6      8111\n",
       "1120445  1659073       18          1        26\n",
       "\n",
       "[1120446 rows x 4 columns]"
      ]
     },
     "execution_count": 40,
     "metadata": {},
     "output_type": "execute_result"
    }
   ],
   "source": [
    "df_user"
   ]
  },
  {
   "cell_type": "markdown",
   "metadata": {},
   "source": [
    "**RFM variables ranges**"
   ]
  },
  {
   "cell_type": "code",
   "execution_count": 42,
   "metadata": {},
   "outputs": [],
   "source": [
    "df_user.set_index(keys = 'User_ID', inplace = True)"
   ]
  },
  {
   "cell_type": "code",
   "execution_count": null,
   "metadata": {},
   "outputs": [],
   "source": [
    "fig , axes = plt.subplots(1,3, figsize = (20, 5))\n",
    "for i , feature in enumerate (list(df_user.columns)):\n",
    "    sns.distplot(df_user[feature], ax = axes[i])"
   ]
  },
  {
   "cell_type": "code",
   "execution_count": null,
   "metadata": {
    "scrolled": true
   },
   "outputs": [],
   "source": [
    "#statistical informations\n",
    "display(df_user.describe())"
   ]
  },
  {
   "cell_type": "markdown",
   "metadata": {},
   "source": [
    "**Data Normalizing**"
   ]
  },
  {
   "cell_type": "code",
   "execution_count": 43,
   "metadata": {
    "scrolled": true
   },
   "outputs": [
    {
     "data": {
      "text/html": [
       "<div>\n",
       "<style scoped>\n",
       "    .dataframe tbody tr th:only-of-type {\n",
       "        vertical-align: middle;\n",
       "    }\n",
       "\n",
       "    .dataframe tbody tr th {\n",
       "        vertical-align: top;\n",
       "    }\n",
       "\n",
       "    .dataframe thead th {\n",
       "        text-align: right;\n",
       "    }\n",
       "</style>\n",
       "<table border=\"1\" class=\"dataframe\">\n",
       "  <thead>\n",
       "    <tr style=\"text-align: right;\">\n",
       "      <th></th>\n",
       "      <th>Recency</th>\n",
       "      <th>Frequency</th>\n",
       "      <th>Monetary</th>\n",
       "    </tr>\n",
       "  </thead>\n",
       "  <tbody>\n",
       "    <tr>\n",
       "      <th>0</th>\n",
       "      <td>0.400000</td>\n",
       "      <td>0.041667</td>\n",
       "      <td>0.000037</td>\n",
       "    </tr>\n",
       "    <tr>\n",
       "      <th>1</th>\n",
       "      <td>0.966667</td>\n",
       "      <td>0.000000</td>\n",
       "      <td>0.000000</td>\n",
       "    </tr>\n",
       "    <tr>\n",
       "      <th>2</th>\n",
       "      <td>0.733333</td>\n",
       "      <td>0.041667</td>\n",
       "      <td>0.000060</td>\n",
       "    </tr>\n",
       "    <tr>\n",
       "      <th>3</th>\n",
       "      <td>0.000000</td>\n",
       "      <td>0.083333</td>\n",
       "      <td>0.020960</td>\n",
       "    </tr>\n",
       "    <tr>\n",
       "      <th>4</th>\n",
       "      <td>0.666667</td>\n",
       "      <td>0.125000</td>\n",
       "      <td>0.027520</td>\n",
       "    </tr>\n",
       "    <tr>\n",
       "      <th>...</th>\n",
       "      <td>...</td>\n",
       "      <td>...</td>\n",
       "      <td>...</td>\n",
       "    </tr>\n",
       "    <tr>\n",
       "      <th>1120441</th>\n",
       "      <td>0.100000</td>\n",
       "      <td>0.208333</td>\n",
       "      <td>0.016134</td>\n",
       "    </tr>\n",
       "    <tr>\n",
       "      <th>1120442</th>\n",
       "      <td>0.100000</td>\n",
       "      <td>0.458333</td>\n",
       "      <td>0.052041</td>\n",
       "    </tr>\n",
       "    <tr>\n",
       "      <th>1120443</th>\n",
       "      <td>0.733333</td>\n",
       "      <td>0.083333</td>\n",
       "      <td>0.001576</td>\n",
       "    </tr>\n",
       "    <tr>\n",
       "      <th>1120444</th>\n",
       "      <td>0.000000</td>\n",
       "      <td>0.250000</td>\n",
       "      <td>0.037604</td>\n",
       "    </tr>\n",
       "    <tr>\n",
       "      <th>1120445</th>\n",
       "      <td>0.600000</td>\n",
       "      <td>0.041667</td>\n",
       "      <td>0.000121</td>\n",
       "    </tr>\n",
       "  </tbody>\n",
       "</table>\n",
       "<p>1120446 rows × 3 columns</p>\n",
       "</div>"
      ],
      "text/plain": [
       "          Recency  Frequency  Monetary\n",
       "0        0.400000   0.041667  0.000037\n",
       "1        0.966667   0.000000  0.000000\n",
       "2        0.733333   0.041667  0.000060\n",
       "3        0.000000   0.083333  0.020960\n",
       "4        0.666667   0.125000  0.027520\n",
       "...           ...        ...       ...\n",
       "1120441  0.100000   0.208333  0.016134\n",
       "1120442  0.100000   0.458333  0.052041\n",
       "1120443  0.733333   0.083333  0.001576\n",
       "1120444  0.000000   0.250000  0.037604\n",
       "1120445  0.600000   0.041667  0.000121\n",
       "\n",
       "[1120446 rows x 3 columns]"
      ]
     },
     "execution_count": 43,
     "metadata": {},
     "output_type": "execute_result"
    }
   ],
   "source": [
    "scaler = MinMaxScaler()\n",
    "df_user_normalized = pd.DataFrame(scaler.fit_transform(df_user))\n",
    "df_user_normalized.columns = ['Recency' , 'Frequency', 'Monetary']\n",
    "df_user_normalized"
   ]
  },
  {
   "cell_type": "markdown",
   "metadata": {},
   "source": [
    "**K_means**"
   ]
  },
  {
   "cell_type": "code",
   "execution_count": 44,
   "metadata": {},
   "outputs": [],
   "source": [
    "# applying Elbow_method to fine the accurate number of clusters\n",
    "#start=dt.now()\n",
    "SSE = []\n",
    "for i in range(0 ,10):\n",
    "    kmeans = KMeans(n_clusters = i+1 , random_state = 1231).fit(df_user_normalized)\n",
    "    SSE.append(kmeans.inertia_)\n",
    "#time_of_execute=dt.now()-start    \n",
    "#print('time_of_execute:',time_of_execute)"
   ]
  },
  {
   "cell_type": "code",
   "execution_count": 45,
   "metadata": {
    "scrolled": true
   },
   "outputs": [
    {
     "data": {
      "image/png": "[encoded data removed]",
      "text/plain": [
       "<Figure size 432x288 with 1 Axes>"
      ]
     },
     "metadata": {
      "needs_background": "light"
     },
     "output_type": "display_data"
    }
   ],
   "source": [
    "sns.pointplot(x = list(range(1,11)) , y = SSE)\n",
    "plt.show()\n",
    "\n",
    "# cluster = 4 or 5"
   ]
  },
  {
   "cell_type": "code",
   "execution_count": 46,
   "metadata": {},
   "outputs": [],
   "source": [
    "# Applying KMeans Model\n",
    "Model = KMeans(n_clusters = 4 , random_state = 1231).fit(df_user_normalized)\n",
    "centers = Model.cluster_centers_"
   ]
  },
  {
   "cell_type": "code",
   "execution_count": null,
   "metadata": {
    "scrolled": true
   },
   "outputs": [],
   "source": [
    "from mpl_toolkits.mplot3d.axes3d import get_test_data\n",
    "fig = plt.figure()\n",
    "ax = fig.add_subplot(111, projection='3d')\n",
    "ax.scatter(df_user_normalized['Recency'], df_user_normalized['Frequency'], df_user_normalized['Monetary'] , cmap = 'brg'\n",
    "            , c = Model.predict(df_user_normalized))\n",
    "ax.scatter(centers[:, 0], centers[:, 1], c = 'black')"
   ]
  },
  {
   "cell_type": "markdown",
   "metadata": {},
   "source": [
    "**Identify the clusters**"
   ]
  },
  {
   "cell_type": "code",
   "execution_count": 47,
   "metadata": {},
   "outputs": [],
   "source": [
    "df_user.columns = df_user.columns"
   ]
  },
  {
   "cell_type": "code",
   "execution_count": 48,
   "metadata": {},
   "outputs": [],
   "source": [
    "df_user['Cluster'] = Model.labels_"
   ]
  },
  {
   "cell_type": "code",
   "execution_count": 49,
   "metadata": {},
   "outputs": [
    {
     "data": {
      "text/html": [
       "<div>\n",
       "<style scoped>\n",
       "    .dataframe tbody tr th:only-of-type {\n",
       "        vertical-align: middle;\n",
       "    }\n",
       "\n",
       "    .dataframe tbody tr th {\n",
       "        vertical-align: top;\n",
       "    }\n",
       "\n",
       "    .dataframe thead th {\n",
       "        text-align: right;\n",
       "    }\n",
       "</style>\n",
       "<table border=\"1\" class=\"dataframe\">\n",
       "  <thead>\n",
       "    <tr style=\"text-align: right;\">\n",
       "      <th></th>\n",
       "      <th>Recency</th>\n",
       "      <th>Frequency</th>\n",
       "      <th>Monetary</th>\n",
       "      <th>Cluster</th>\n",
       "    </tr>\n",
       "    <tr>\n",
       "      <th>User_ID</th>\n",
       "      <th></th>\n",
       "      <th></th>\n",
       "      <th></th>\n",
       "      <th></th>\n",
       "    </tr>\n",
       "  </thead>\n",
       "  <tbody>\n",
       "    <tr>\n",
       "      <th>2</th>\n",
       "      <td>12</td>\n",
       "      <td>1</td>\n",
       "      <td>8</td>\n",
       "      <td>0</td>\n",
       "    </tr>\n",
       "    <tr>\n",
       "      <th>3</th>\n",
       "      <td>29</td>\n",
       "      <td>0</td>\n",
       "      <td>0</td>\n",
       "      <td>1</td>\n",
       "    </tr>\n",
       "    <tr>\n",
       "      <th>5</th>\n",
       "      <td>22</td>\n",
       "      <td>1</td>\n",
       "      <td>13</td>\n",
       "      <td>1</td>\n",
       "    </tr>\n",
       "    <tr>\n",
       "      <th>8</th>\n",
       "      <td>0</td>\n",
       "      <td>2</td>\n",
       "      <td>4521</td>\n",
       "      <td>2</td>\n",
       "    </tr>\n",
       "    <tr>\n",
       "      <th>9</th>\n",
       "      <td>20</td>\n",
       "      <td>3</td>\n",
       "      <td>5936</td>\n",
       "      <td>0</td>\n",
       "    </tr>\n",
       "    <tr>\n",
       "      <th>...</th>\n",
       "      <td>...</td>\n",
       "      <td>...</td>\n",
       "      <td>...</td>\n",
       "      <td>...</td>\n",
       "    </tr>\n",
       "    <tr>\n",
       "      <th>1659068</th>\n",
       "      <td>3</td>\n",
       "      <td>5</td>\n",
       "      <td>3480</td>\n",
       "      <td>2</td>\n",
       "    </tr>\n",
       "    <tr>\n",
       "      <th>1659069</th>\n",
       "      <td>3</td>\n",
       "      <td>11</td>\n",
       "      <td>11225</td>\n",
       "      <td>3</td>\n",
       "    </tr>\n",
       "    <tr>\n",
       "      <th>1659071</th>\n",
       "      <td>22</td>\n",
       "      <td>2</td>\n",
       "      <td>340</td>\n",
       "      <td>1</td>\n",
       "    </tr>\n",
       "    <tr>\n",
       "      <th>1659072</th>\n",
       "      <td>0</td>\n",
       "      <td>6</td>\n",
       "      <td>8111</td>\n",
       "      <td>2</td>\n",
       "    </tr>\n",
       "    <tr>\n",
       "      <th>1659073</th>\n",
       "      <td>18</td>\n",
       "      <td>1</td>\n",
       "      <td>26</td>\n",
       "      <td>0</td>\n",
       "    </tr>\n",
       "  </tbody>\n",
       "</table>\n",
       "<p>1120446 rows × 4 columns</p>\n",
       "</div>"
      ],
      "text/plain": [
       "         Recency  Frequency  Monetary  Cluster\n",
       "User_ID                                       \n",
       "2             12          1         8        0\n",
       "3             29          0         0        1\n",
       "5             22          1        13        1\n",
       "8              0          2      4521        2\n",
       "9             20          3      5936        0\n",
       "...          ...        ...       ...      ...\n",
       "1659068        3          5      3480        2\n",
       "1659069        3         11     11225        3\n",
       "1659071       22          2       340        1\n",
       "1659072        0          6      8111        2\n",
       "1659073       18          1        26        0\n",
       "\n",
       "[1120446 rows x 4 columns]"
      ]
     },
     "execution_count": 49,
     "metadata": {},
     "output_type": "execute_result"
    }
   ],
   "source": [
    "df_user"
   ]
  },
  {
   "cell_type": "code",
   "execution_count": 50,
   "metadata": {},
   "outputs": [
    {
     "data": {
      "text/html": [
       "<div>\n",
       "<style scoped>\n",
       "    .dataframe tbody tr th:only-of-type {\n",
       "        vertical-align: middle;\n",
       "    }\n",
       "\n",
       "    .dataframe tbody tr th {\n",
       "        vertical-align: top;\n",
       "    }\n",
       "\n",
       "    .dataframe thead tr th {\n",
       "        text-align: left;\n",
       "    }\n",
       "\n",
       "    .dataframe thead tr:last-of-type th {\n",
       "        text-align: right;\n",
       "    }\n",
       "</style>\n",
       "<table border=\"1\" class=\"dataframe\">\n",
       "  <thead>\n",
       "    <tr>\n",
       "      <th></th>\n",
       "      <th colspan=\"3\" halign=\"left\">Recency</th>\n",
       "      <th colspan=\"3\" halign=\"left\">Frequency</th>\n",
       "      <th colspan=\"4\" halign=\"left\">Monetary</th>\n",
       "      <th>Customer_Label</th>\n",
       "    </tr>\n",
       "    <tr>\n",
       "      <th></th>\n",
       "      <th>mean</th>\n",
       "      <th>min</th>\n",
       "      <th>max</th>\n",
       "      <th>mean</th>\n",
       "      <th>min</th>\n",
       "      <th>max</th>\n",
       "      <th>mean</th>\n",
       "      <th>min</th>\n",
       "      <th>max</th>\n",
       "      <th>count</th>\n",
       "      <th></th>\n",
       "    </tr>\n",
       "    <tr>\n",
       "      <th>Cluster</th>\n",
       "      <th></th>\n",
       "      <th></th>\n",
       "      <th></th>\n",
       "      <th></th>\n",
       "      <th></th>\n",
       "      <th></th>\n",
       "      <th></th>\n",
       "      <th></th>\n",
       "      <th></th>\n",
       "      <th></th>\n",
       "      <th></th>\n",
       "    </tr>\n",
       "  </thead>\n",
       "  <tbody>\n",
       "    <tr>\n",
       "      <th>0</th>\n",
       "      <td>14.535906</td>\n",
       "      <td>10</td>\n",
       "      <td>20</td>\n",
       "      <td>1.863589</td>\n",
       "      <td>1</td>\n",
       "      <td>10</td>\n",
       "      <td>1202.222620</td>\n",
       "      <td>1</td>\n",
       "      <td>83207</td>\n",
       "      <td>320056</td>\n",
       "      <td>Normal</td>\n",
       "    </tr>\n",
       "    <tr>\n",
       "      <th>1</th>\n",
       "      <td>24.968927</td>\n",
       "      <td>20</td>\n",
       "      <td>30</td>\n",
       "      <td>0.466312</td>\n",
       "      <td>0</td>\n",
       "      <td>3</td>\n",
       "      <td>244.912609</td>\n",
       "      <td>0</td>\n",
       "      <td>55955</td>\n",
       "      <td>279182</td>\n",
       "      <td>Bad</td>\n",
       "    </tr>\n",
       "    <tr>\n",
       "      <th>2</th>\n",
       "      <td>3.841712</td>\n",
       "      <td>0</td>\n",
       "      <td>9</td>\n",
       "      <td>2.350373</td>\n",
       "      <td>1</td>\n",
       "      <td>7</td>\n",
       "      <td>1563.328086</td>\n",
       "      <td>1</td>\n",
       "      <td>130853</td>\n",
       "      <td>424139</td>\n",
       "      <td>Good</td>\n",
       "    </tr>\n",
       "    <tr>\n",
       "      <th>3</th>\n",
       "      <td>1.725958</td>\n",
       "      <td>0</td>\n",
       "      <td>13</td>\n",
       "      <td>11.555584</td>\n",
       "      <td>6</td>\n",
       "      <td>24</td>\n",
       "      <td>11140.454151</td>\n",
       "      <td>10</td>\n",
       "      <td>215697</td>\n",
       "      <td>97069</td>\n",
       "      <td>Excellent</td>\n",
       "    </tr>\n",
       "  </tbody>\n",
       "</table>\n",
       "</div>"
      ],
      "text/plain": [
       "           Recency          Frequency              Monetary              \\\n",
       "              mean min max       mean min max          mean min     max   \n",
       "Cluster                                                                   \n",
       "0        14.535906  10  20   1.863589   1  10   1202.222620   1   83207   \n",
       "1        24.968927  20  30   0.466312   0   3    244.912609   0   55955   \n",
       "2         3.841712   0   9   2.350373   1   7   1563.328086   1  130853   \n",
       "3         1.725958   0  13  11.555584   6  24  11140.454151  10  215697   \n",
       "\n",
       "                Customer_Label  \n",
       "          count                 \n",
       "Cluster                         \n",
       "0        320056         Normal  \n",
       "1        279182            Bad  \n",
       "2        424139           Good  \n",
       "3         97069      Excellent  "
      ]
     },
     "execution_count": 50,
     "metadata": {},
     "output_type": "execute_result"
    }
   ],
   "source": [
    "summery_of_df_user = pd.DataFrame(df_user.groupby('Cluster').agg({\n",
    "                                                                  'Recency':['mean','min', 'max'],\n",
    "                                                                  'Frequency':['mean','min', 'max'],\n",
    "                                                                  'Monetary':['mean','min', 'max','count']}))\n",
    "summery_of_df_user[\"Customer_Label\"] = ['Normal','Bad','Good','Excellent']\n",
    "summery_of_df_user"
   ]
  },
  {
   "cell_type": "code",
   "execution_count": 51,
   "metadata": {},
   "outputs": [
    {
     "name": "stderr",
     "output_type": "stream",
     "text": [
      "C:\\Users\\My\\anaconda3\\lib\\site-packages\\pandas\\core\\indexing.py:670: SettingWithCopyWarning: \n",
      "A value is trying to be set on a copy of a slice from a DataFrame\n",
      "\n",
      "See the caveats in the documentation: https://pandas.pydata.org/pandas-docs/stable/user_guide/indexing.html#returning-a-view-versus-a-copy\n",
      "  self._setitem_with_indexer(indexer, value)\n"
     ]
    },
    {
     "data": {
      "text/html": [
       "<div>\n",
       "<style scoped>\n",
       "    .dataframe tbody tr th:only-of-type {\n",
       "        vertical-align: middle;\n",
       "    }\n",
       "\n",
       "    .dataframe tbody tr th {\n",
       "        vertical-align: top;\n",
       "    }\n",
       "\n",
       "    .dataframe thead th {\n",
       "        text-align: right;\n",
       "    }\n",
       "</style>\n",
       "<table border=\"1\" class=\"dataframe\">\n",
       "  <thead>\n",
       "    <tr style=\"text-align: right;\">\n",
       "      <th></th>\n",
       "      <th>Recency</th>\n",
       "      <th>Frequency</th>\n",
       "      <th>Monetary</th>\n",
       "      <th>Cluster</th>\n",
       "      <th>Customer_Label</th>\n",
       "    </tr>\n",
       "    <tr>\n",
       "      <th>User_ID</th>\n",
       "      <th></th>\n",
       "      <th></th>\n",
       "      <th></th>\n",
       "      <th></th>\n",
       "      <th></th>\n",
       "    </tr>\n",
       "  </thead>\n",
       "  <tbody>\n",
       "    <tr>\n",
       "      <th>2</th>\n",
       "      <td>12</td>\n",
       "      <td>1</td>\n",
       "      <td>8</td>\n",
       "      <td>0</td>\n",
       "      <td>Normal</td>\n",
       "    </tr>\n",
       "    <tr>\n",
       "      <th>3</th>\n",
       "      <td>29</td>\n",
       "      <td>0</td>\n",
       "      <td>0</td>\n",
       "      <td>1</td>\n",
       "      <td>Bad</td>\n",
       "    </tr>\n",
       "    <tr>\n",
       "      <th>5</th>\n",
       "      <td>22</td>\n",
       "      <td>1</td>\n",
       "      <td>13</td>\n",
       "      <td>1</td>\n",
       "      <td>Bad</td>\n",
       "    </tr>\n",
       "    <tr>\n",
       "      <th>8</th>\n",
       "      <td>0</td>\n",
       "      <td>2</td>\n",
       "      <td>4521</td>\n",
       "      <td>2</td>\n",
       "      <td>Good</td>\n",
       "    </tr>\n",
       "    <tr>\n",
       "      <th>9</th>\n",
       "      <td>20</td>\n",
       "      <td>3</td>\n",
       "      <td>5936</td>\n",
       "      <td>0</td>\n",
       "      <td>Normal</td>\n",
       "    </tr>\n",
       "    <tr>\n",
       "      <th>...</th>\n",
       "      <td>...</td>\n",
       "      <td>...</td>\n",
       "      <td>...</td>\n",
       "      <td>...</td>\n",
       "      <td>...</td>\n",
       "    </tr>\n",
       "    <tr>\n",
       "      <th>1659068</th>\n",
       "      <td>3</td>\n",
       "      <td>5</td>\n",
       "      <td>3480</td>\n",
       "      <td>2</td>\n",
       "      <td>Good</td>\n",
       "    </tr>\n",
       "    <tr>\n",
       "      <th>1659069</th>\n",
       "      <td>3</td>\n",
       "      <td>11</td>\n",
       "      <td>11225</td>\n",
       "      <td>3</td>\n",
       "      <td>Excellent</td>\n",
       "    </tr>\n",
       "    <tr>\n",
       "      <th>1659071</th>\n",
       "      <td>22</td>\n",
       "      <td>2</td>\n",
       "      <td>340</td>\n",
       "      <td>1</td>\n",
       "      <td>Bad</td>\n",
       "    </tr>\n",
       "    <tr>\n",
       "      <th>1659072</th>\n",
       "      <td>0</td>\n",
       "      <td>6</td>\n",
       "      <td>8111</td>\n",
       "      <td>2</td>\n",
       "      <td>Good</td>\n",
       "    </tr>\n",
       "    <tr>\n",
       "      <th>1659073</th>\n",
       "      <td>18</td>\n",
       "      <td>1</td>\n",
       "      <td>26</td>\n",
       "      <td>0</td>\n",
       "      <td>Normal</td>\n",
       "    </tr>\n",
       "  </tbody>\n",
       "</table>\n",
       "<p>1120446 rows × 5 columns</p>\n",
       "</div>"
      ],
      "text/plain": [
       "         Recency  Frequency  Monetary  Cluster Customer_Label\n",
       "User_ID                                                      \n",
       "2             12          1         8        0         Normal\n",
       "3             29          0         0        1            Bad\n",
       "5             22          1        13        1            Bad\n",
       "8              0          2      4521        2           Good\n",
       "9             20          3      5936        0         Normal\n",
       "...          ...        ...       ...      ...            ...\n",
       "1659068        3          5      3480        2           Good\n",
       "1659069        3         11     11225        3      Excellent\n",
       "1659071       22          2       340        1            Bad\n",
       "1659072        0          6      8111        2           Good\n",
       "1659073       18          1        26        0         Normal\n",
       "\n",
       "[1120446 rows x 5 columns]"
      ]
     },
     "execution_count": 51,
     "metadata": {},
     "output_type": "execute_result"
    }
   ],
   "source": [
    "#creating a null column\n",
    "df_user['Customer_Label'] = np.nan \n",
    "\n",
    "#Description of each cluster \n",
    "df_user['Customer_Label'].loc[df_user['Cluster'] == 0] = \"Normal\"\n",
    "df_user['Customer_Label'].loc[df_user['Cluster'] == 1] = \"Bad\"\n",
    "df_user['Customer_Label'].loc[df_user['Cluster'] == 2] = \"Good\"\n",
    "df_user['Customer_Label'].loc[df_user['Cluster'] == 3] = \"Excellent\"\n",
    "df_user"
   ]
  },
  {
   "cell_type": "markdown",
   "metadata": {},
   "source": [
    "**compering with the previous RFM analysis**"
   ]
  },
  {
   "cell_type": "code",
   "execution_count": 64,
   "metadata": {},
   "outputs": [],
   "source": [
    "dic_Number_of_users_in_clusters = {'Normal': len(df_user[df_user['Customer_Label'] == 'Normal']),\n",
    "      'Bad':len(df_user[df_user['Customer_Label'] == 'Bad']),\n",
    "      'Good' : len(df_user[df_user['Customer_Label'] == 'Good']),\n",
    "      'Excellent' : len(df_user[df_user['Customer_Label'] == 'Excellent'])}"
   ]
  },
  {
   "cell_type": "code",
   "execution_count": 65,
   "metadata": {},
   "outputs": [
    {
     "data": {
      "text/plain": [
       "{'Normal': 320056, 'Bad': 279182, 'Good': 424139, 'Excellent': 97069}"
      ]
     },
     "execution_count": 65,
     "metadata": {},
     "output_type": "execute_result"
    }
   ],
   "source": [
    "dic_Number_of_users_in_clusters\n",
    "#three_weeks"
   ]
  },
  {
   "cell_type": "code",
   "execution_count": 68,
   "metadata": {},
   "outputs": [],
   "source": [
    "#four weeks (the previous RFM)\n",
    "#{'Normal': 346053, 'Bad': 305483, 'Good': 399804, 'Excellent': 92785}"
   ]
  },
  {
   "cell_type": "code",
   "execution_count": 66,
   "metadata": {},
   "outputs": [
    {
     "data": {
      "text/plain": [
       "168952"
      ]
     },
     "execution_count": 66,
     "metadata": {},
     "output_type": "execute_result"
    }
   ],
   "source": [
    "# finding inactive users\n",
    "i_U =  df_user[df_user['Customer_Label'] == 'Bad']\n",
    "inactive_Users = i_U[i_U['Frequency'] == 0]\n",
    "len(inactive_Users)\n",
    "#inactive_Users"
   ]
  }
 ],
 "metadata": {
  "kernelspec": {
   "display_name": "Python 3",
   "language": "python",
   "name": "python3"
  },
  "language_info": {
   "codemirror_mode": {
    "name": "ipython",
    "version": 3
   },
   "file_extension": ".py",
   "mimetype": "text/x-python",
   "name": "python",
   "nbconvert_exporter": "python",
   "pygments_lexer": "ipython3",
   "version": "3.7.6"
  }
 },
 "nbformat": 4,
 "nbformat_minor": 4
}
